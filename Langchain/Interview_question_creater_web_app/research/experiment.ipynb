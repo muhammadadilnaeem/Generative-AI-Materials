{
 "cells": [
  {
   "cell_type": "markdown",
   "metadata": {},
   "source": [
    "\n",
    "-----\n",
    "\n",
    "# **`Interview Question Creater`**\n",
    "\n",
    "----\n"
   ]
  },
  {
   "cell_type": "markdown",
   "metadata": {},
   "source": [
    "### **Import Libraries**"
   ]
  },
  {
   "cell_type": "code",
   "execution_count": 83,
   "metadata": {},
   "outputs": [],
   "source": [
    "import os\n",
    "from dotenv import load_dotenv\n",
    "from langchain_community.document_loaders import PyPDFLoader\n",
    "from langchain.text_splitter import RecursiveCharacterTextSplitter\n",
    "from langchain.text_splitter import TokenTextSplitter\n",
    "from langchain.docstore.document import Document\n",
    "from langchain_openai import ChatOpenAI\n",
    "from langchain_core.prompts import PromptTemplate\n",
    "from langchain.chains.summarize import load_summarize_chain\n",
    "from langchain_openai import OpenAIEmbeddings\n",
    "from langchain.vectorstores import FAISS\n",
    "from langchain.chains import RetrievalQA"
   ]
  },
  {
   "cell_type": "markdown",
   "metadata": {},
   "source": [
    "### **Set Up OpenAI API Key**"
   ]
  },
  {
   "cell_type": "code",
   "execution_count": 54,
   "metadata": {},
   "outputs": [],
   "source": [
    "load_dotenv()\n",
    "\n",
    "os.environ['OPENAI_API_KEY'] = os.getenv(\"OPENAI_API_KEY\")"
   ]
  },
  {
   "cell_type": "markdown",
   "metadata": {},
   "source": [
    "### **Load the Data**"
   ]
  },
  {
   "cell_type": "code",
   "execution_count": 55,
   "metadata": {},
   "outputs": [],
   "source": [
    "file_path = r\"E:\\Practice python\\Generative AI Materials\\Langchain\\Interview_question_creater_web_app\\data\\SDG.pdf\"\n",
    "\n",
    "loader = PyPDFLoader(file_path)\n",
    "\n",
    "data = loader.load()"
   ]
  },
  {
   "cell_type": "code",
   "execution_count": 56,
   "metadata": {},
   "outputs": [
    {
     "data": {
      "text/plain": [
       "[Document(metadata={'source': 'E:\\\\Practice python\\\\Generative AI Materials\\\\Langchain\\\\Interview_question_creater_web_app\\\\data\\\\SDG.pdf', 'page': 0}, page_content=''),\n",
       " Document(metadata={'source': 'E:\\\\Practice python\\\\Generative AI Materials\\\\Langchain\\\\Interview_question_creater_web_app\\\\data\\\\SDG.pdf', 'page': 1}, page_content=''),\n",
       " Document(metadata={'source': 'E:\\\\Practice python\\\\Generative AI Materials\\\\Langchain\\\\Interview_question_creater_web_app\\\\data\\\\SDG.pdf', 'page': 2}, page_content='IN THE YEAR 2015, LEADERS FROM 193 COUNTRIES OF THE WORLD \\nCAME TOGETHER TO FACE THE FUTURE.\\nAnd what they saw was daunting. Famines. Drought. Wars. Plagues. Poverty. \\nNot just in some faraway place, but in their own cities and towns and villages.\\nThey knew things didn’t have to be this way. They knew we had enough  \\nfood to feed the world, but that it wasn’t getting shared. They knew there \\nwere medicines for HIV and other diseases, but they cost a lot. They knew  \\nthat earthquakes and floods were inevitable, but that the high death  \\ntolls were not. \\nThey also knew that billions of people worldwide shared their hope for a \\nbetter future.\\nSo leaders from these countries created a plan called the Sustainable \\nDevelopment Goals (SDGs). This set of 17 goals imagines a future just 15 years \\noff that would be rid of poverty and hunger, and safe from the worst effects of \\nclimate change. It’s an ambitious plan. \\nBut there’s ample evidence that we can succeed. In the past 15 years, the \\ninternational community cut extreme poverty in half. \\nNow we can finish the job.\\nThe United Nations Development Programme (UNDP) is one of the leading \\norganizations working to fulfil the SDGs by the year 2030. Present in nearly \\n170 countries and territories, we help nations make the Goals a reality.  \\nWe also champion the Goals so that people everywhere know how to  \\ndo their part. \\nUNDP is proud to continue as a leader in this global movement.\\nLearn about the Sustainable Development Goals.  What’s your Goal? '),\n",
       " Document(metadata={'source': 'E:\\\\Practice python\\\\Generative AI Materials\\\\Langchain\\\\Interview_question_creater_web_app\\\\data\\\\SDG.pdf', 'page': 3}, page_content='END EXTREME POVERTY IN ALL FORMS  \\nBY 2030.\\nYes, it’s an ambitious goal—but we believe it can be done. In 2000, the \\nworld committed to halving the number of people living in extreme \\npoverty by the year 2015 and we met this goal. However, more than \\n800 million people around the world still live on less than $1.25 a day—\\nthat’s about the equivalent of the entire population of Europe living in \\nextreme poverty. Now it’s time to build on what we learned and end \\npoverty altogether. '),\n",
       " Document(metadata={'source': 'E:\\\\Practice python\\\\Generative AI Materials\\\\Langchain\\\\Interview_question_creater_web_app\\\\data\\\\SDG.pdf', 'page': 4}, page_content='END HUNGER, ACHIEVE FOOD SECURITY \\nAND IMPROVED NUTRITION AND PROMOTE \\nSUSTAINABLE AGRICUL TURE\\nIn the past 20 years, hunger has dropped by almost half. Many \\ncountries that used to suffer from famine and hunger can now \\nmeet the nutritional needs of their most vulnerable people. It’s an \\nincredible accomplishment. Now we can go further and end hunger \\nand malnutrition once and for all. That means doing things such as \\npromoting sustainable agriculture and supporting small farmers. It’s a tall \\norder. But for the sake of the nearly 1 out of every 9 people on earth who \\ngo to bed hungry every night, we’ve got to try. Imagine a world where \\neveryone has access to sufficient and nutritious food all year round. \\nTogether, we can make that a reality by 2030. '),\n",
       " Document(metadata={'source': 'E:\\\\Practice python\\\\Generative AI Materials\\\\Langchain\\\\Interview_question_creater_web_app\\\\data\\\\SDG.pdf', 'page': 5}, page_content='ENSURE HEAL THY LIVES AND PROMOTE \\nWELL-BEING FOR ALL AT ALL AGES\\nWe all know how important it is to be in good health. Our health affects \\neverything from how much we enjoy life to what work we can perform. \\nThat’s why there’s a Goal to make sure everyone has health coverage \\nand access to safe and effective medicines and vaccines. In the 25 \\nyears before the SDGs, we made big strides—preventable child deaths \\ndropped by more than half, and maternal mortality went down by \\nalmost as much. And yet some other numbers remain tragically high, like \\nthe fact that 6 million children die every year before their fifth birthday, \\nor that AIDS is the leading cause of death for adolescents in sub-Saharan \\nAfrica. We have the means to turn that around and make good health \\nmore than just a wish.'),\n",
       " Document(metadata={'source': 'E:\\\\Practice python\\\\Generative AI Materials\\\\Langchain\\\\Interview_question_creater_web_app\\\\data\\\\SDG.pdf', 'page': 6}, page_content='ENSURE INCLUSIVE AND EQUITABLE QUALITY \\nEDUCATION AND PROMOTE LIFELONG \\nLEARNING OPPORTUNITIES FOR ALL  \\nFirst, the bad news on education. Poverty, armed conflict and other \\nemergencies keep many, many kids around the world out of school. In \\nfact, kids from the poorest households are four times more likely to be \\nout of school than those of the richest households. Now for some good \\nnews. Since 2000, there has been enormous progress on the goal to \\nprovide primary education to all children worldwide: the total enrolment \\nrate in developing regions has reached 91%. By measures in any school, \\nthat’s a good grade. Now, let’s get an even better grade for all kids, \\nand achieve the goal of universal primary and secondary education, \\naffordable vocational training, access to higher education and more.'),\n",
       " Document(metadata={'source': 'E:\\\\Practice python\\\\Generative AI Materials\\\\Langchain\\\\Interview_question_creater_web_app\\\\data\\\\SDG.pdf', 'page': 7}, page_content='We can celebrate the great progress the world has made in becoming \\nmore prosperous and fair. But there’s a shadow to the celebration. In \\njust about every way, women and girls lag behind. There are still gross \\ninequalities in work and wages, lots of unpaid “women’s work” such as \\nchild care and domestic work, and discrimination in public decision-\\nmaking. But there are grounds for hope. More girls are in school now \\ncompared to in 2000. Most regions have reached gender parity in \\nprimary education. The percentage of women getting paid for their work \\nis on the rise. The Sustainable Development Goals aim to build on these \\nachievements to ensure that there is an end to discrimination against \\nwomen and girls everywhere.ACHIEVE GENDER EQUALITY AND  \\nEMPOWER ALL WOMEN AND GIRLS '),\n",
       " Document(metadata={'source': 'E:\\\\Practice python\\\\Generative AI Materials\\\\Langchain\\\\Interview_question_creater_web_app\\\\data\\\\SDG.pdf', 'page': 8}, page_content='Everyone on earth should have access to safe and affordable drinking \\nwater. That’s the goal for 2030. While many people take clean drinking \\nwater and sanitation for granted, many others don’t. Water scarcity \\naffects more than 40 percent of people around the world, and that \\nnumber is projected to go even higher as a result of climate change. \\nIf we continue the path we’re on, by 2050 at least one in four people \\nare likely to be affected by recurring water shortages. But we can take \\na new path—more international cooperation, protecting wetlands \\nand rivers, sharing water-treatment technologies—that leads to \\naccomplishing this Goal. ENSURE AVAILABILITY AND SUSTAINABLE \\nMANAGEMENT OF WATER AND SANITATION \\nFOR ALL  '),\n",
       " Document(metadata={'source': 'E:\\\\Practice python\\\\Generative AI Materials\\\\Langchain\\\\Interview_question_creater_web_app\\\\data\\\\SDG.pdf', 'page': 9}, page_content='ENSURE ACCESS TO AFFORDABLE, RELIABLE, \\nSUSTAINABLE AND MODERN ENERGY FOR \\nALL \\nBetween 1990 and 2010, the number of people with access to electricity \\nincreased by 1.7 billion. That’s progress to be proud of. And yet as the \\nworld’s population continues to rise, still more people will need cheap \\nenergy to light their homes and streets, use phones and computers, \\nand do their everyday business. How we get that energy is at issue; fossil \\nfuels and greenhouse gas emissions are making drastic changes in the \\nclimate, leading to big problems on every continent. Instead, we can \\nbecome more energy-efficient and invest in clean energy sources such \\nas solar and wind. That way we’ll meet electricity needs and protect the \\nenvironment. How’s that for a balancing act?'),\n",
       " Document(metadata={'source': 'E:\\\\Practice python\\\\Generative AI Materials\\\\Langchain\\\\Interview_question_creater_web_app\\\\data\\\\SDG.pdf', 'page': 10}, page_content='PROMOTE SUSTAINED, INCLUSIVE AND \\nSUSTAINABLE ECONOMIC GROWTH, FULL \\nAND PRODUCTIVE EMPLOYMENT AND \\nDECENT WORK FOR ALL \\nAn important part of economic growth is that people have jobs that \\npay enough to support themselves and their families. The good news \\nis that the middle class is growing worldwide—almost tripling in size \\nin developing countries in the last 25 years, to more than a third of the \\npopulation. But today, job growth is not keeping pace with the growing \\nlabour force. Things don’t have to be that way. We can promote policies \\nthat encourage entrepreneurship and job creation. We can eradicate \\nforced labour, slavery and human trafficking. And in the end we can \\nachieve the goal of decent work for all women and men by 2030.'),\n",
       " Document(metadata={'source': 'E:\\\\Practice python\\\\Generative AI Materials\\\\Langchain\\\\Interview_question_creater_web_app\\\\data\\\\SDG.pdf', 'page': 11}, page_content='BUILD RESILIENT INFRASTRUCTURE, \\nPROMOTE INCLUSIVE AND SUSTAINABLE \\nINDUSTRIALIZATION AND FOSTER \\nINNOVATION \\nTechnological progress helps us address big global challenges such as \\ncreating jobs and becoming more energy efficient. For example, the \\nworld is becoming ever more interconnected and prosperous thanks to \\nthe internet. The more connected we are, the more we can all benefit \\nfrom the wisdom and contributions of people everywhere on earth.  And \\nyet four billion people have no way of getting online, the vast majority \\nof them in developing countries. The more we invest in innovation \\nand infrastructure, the better off we’ll all be. Bridging the digital divide, \\npromoting sustainable industries, and investing in scientific research and \\ninnovation are all important ways to facilitate sustainable development.'),\n",
       " Document(metadata={'source': 'E:\\\\Practice python\\\\Generative AI Materials\\\\Langchain\\\\Interview_question_creater_web_app\\\\data\\\\SDG.pdf', 'page': 12}, page_content='REDUCE INEQUALITY WITHIN AND AMONG \\nCOUNTRIES  \\nIt’s an old story: the rich get richer, and the poor get poorer. The divide \\nhas never been starker. We can and must adopt policies that create \\nopportunity for everyone, regardless of who they are or where they \\ncome from. Income inequality is a global problem that requires global \\nsolutions. That means improving the regulation of financial markets \\nand institutions, sending development aid where it is most needed \\nand helping people migrate safely so they can pursue opportunities. \\nTogether, we can now change the direction of the old story of inequality. '),\n",
       " Document(metadata={'source': 'E:\\\\Practice python\\\\Generative AI Materials\\\\Langchain\\\\Interview_question_creater_web_app\\\\data\\\\SDG.pdf', 'page': 13}, page_content='MAKE CITIES AND HUMAN SETTLEMENTS \\nINCLUSIVE, SAFE, RESILIENT AND \\nSUSTAINABLE \\nIf you’re like most people, you live in a city. More than half the world’s \\npopulation now lives in cities, and that figure will go to about two-thirds \\nof humanity by the year 2050. Cities are getting bigger. In 1990 there \\nwere ten “mega-cities” with 10 million inhabitants or more. In 2014, there \\nwere 28 mega-cities, home to 453 million people. Incredible, huh? A lot \\nof people love cities; they’re centers of culture and business and life. The \\nthing is, they’re also often centers of extreme poverty. To make cities \\nsustainable for all, we can create good, affordable public housing. We \\ncan upgrade slum settlements. We can invest in public transport, create \\ngreen spaces, and get a broader range of people involved in urban \\nplanning decisions. That way, we can keep the things we love about \\ncities, and change the things we don’t.'),\n",
       " Document(metadata={'source': 'E:\\\\Practice python\\\\Generative AI Materials\\\\Langchain\\\\Interview_question_creater_web_app\\\\data\\\\SDG.pdf', 'page': 14}, page_content='ENSURE SUSTAINABLE CONSUMPTION AND \\nPRODUCTION PATTERNS\\nSome people use a lot of stuff, and some people use very little—in fact, \\na big share of the world population is consuming too little to meet even \\ntheir basic needs. Instead, we can have a world where everybody gets \\nwhat they need to survive and thrive. And we can consume in a way \\nthat preserves our natural resources so that our children can enjoy them, \\nand their children and their children after that. The hard part is how to \\nachieve that goal. We can manage our natural resources more efficiently \\nand dispose of toxic waste better. Cut per capita food waste in half \\nglobally. Get businesses and consumers to reduce and recycle waste. \\nAnd help countries that have typically not consumed a lot to move \\ntowards more responsible consumption patterns.'),\n",
       " Document(metadata={'source': 'E:\\\\Practice python\\\\Generative AI Materials\\\\Langchain\\\\Interview_question_creater_web_app\\\\data\\\\SDG.pdf', 'page': 15}, page_content='TAKE URGENT ACTION TO COMBAT CLIMATE \\nCHANGE AND ITS IMPACTS\\nEvery country in the world is seeing the drastic effects of climate \\nchange, some more than others. On average, the annual losses just \\nfrom earthquakes, tsunamis, tropical cyclones and flooding count in the \\nhundreds of billions of dollars. We can reduce the loss of life and property \\nby helping more vulnerable regions—such as land-locked countries \\nand island states—become more resilient. It is still possible, with the \\npolitical will and technological measures, to limit the increase in global \\nmean temperature to two degrees Celsius above pre-industrial levels—\\nand thus avoid the worst effects of climate change. The Sustainable \\nDevelopment Goals lay out a way for countries to work together to meet \\nthis urgent challenge. '),\n",
       " Document(metadata={'source': 'E:\\\\Practice python\\\\Generative AI Materials\\\\Langchain\\\\Interview_question_creater_web_app\\\\data\\\\SDG.pdf', 'page': 16}, page_content='CONSERVE AND SUSTAINABLY USE THE \\nOCEANS, SEAS AND MARINE RESOURCES \\nFOR SUSTAINABLE DEVELOPMENT\\nThe oceans make human life possible. Their temperature, their chemistry, \\ntheir currents, their life forms. For one thing, more than 3 billion people \\ndepend on marine and coastal diversity for their livelihoods. But today \\nwe are seeing nearly a third of the world’s fish stocks overexploited. \\nThat’s not a sustainable way of life. Even people who live nowhere near \\nthe ocean can’t live without it. Oceans absorb about 30 percent of the \\ncarbon dioxide that humans produce; but we’re producing more carbon \\ndioxide than ever before and that makes the oceans more acidic—26% \\nmore, since the start of the industrial revolution. Our trash doesn’t help \\neither—13,000 pieces of plastic litter on every square kilometer of ocean. \\nSounds bad, right? Don’t despair! The Sustainable Development Goals \\nindicate targets for managing and protecting life below water. '),\n",
       " Document(metadata={'source': 'E:\\\\Practice python\\\\Generative AI Materials\\\\Langchain\\\\Interview_question_creater_web_app\\\\data\\\\SDG.pdf', 'page': 17}, page_content='PROTECT, RESTORE AND PROMOTE \\nSUSTAINABLE USE OF TERRESTRIAL \\nECOSYSTEMS, SUSTAINABLY MANAGE \\nFORESTS, COMBAT DESERTIFICATION, AND \\nHAL T AND REVERSE LAND DEGRADATION \\nAND HAL T BIODIVERSITY LOSS \\nHumans and other animals rely on other forms of life on land for food, \\nclean air, clean water, and as a means of combatting climate change. \\nPlant life makes up 80% of the human diet. Forests, which cover 30% \\nof the Earth’s surface, help keep the air and water clean and the Earth’s \\nclimate in balance. That’s not to mention they’re home to millions of \\nanimal species. But the land and life on it are in trouble. Arable land \\nis disappearing 30 to 35 times faster than it has historically. Deserts \\nare spreading. Animal breeds are going extinct. We can turn these \\ntrends around. Fortunately, the Sustainable Development Goals aim to \\nconserve and restore the use of terrestrial ecosystems such as forests, \\nwetlands, drylands and mountains by 2030. '),\n",
       " Document(metadata={'source': 'E:\\\\Practice python\\\\Generative AI Materials\\\\Langchain\\\\Interview_question_creater_web_app\\\\data\\\\SDG.pdf', 'page': 18}, page_content='PROMOTE PEACEFUL AND INCLUSIVE \\nSOCIETIES FOR SUSTAINABLE \\nDEVELOPMENT, PROVIDE ACCESS TO \\nJUSTICE FOR ALL AND BUILD EFFECTIVE, \\nACCOUNTABLE AND INCLUSIVE \\nINSTITUTIONS AT ALL LEVELS \\nHow can a country develop—how can people eat and teach and learn \\nand work and raise families—without peace? And how can a country \\nhave peace without justice, without human rights, without government \\nbased on the rule of law? Some parts of the world enjoy relative peace \\nand justice, and may come to take it for granted. Other parts seem to \\nbe plagued by armed conflict, crime, torture and exploitation, all of \\nwhich hinders their development. The goal of peace and justice is one \\nfor all countries to strive towards. The Sustainable Development Goals \\naim to reduce all forms of violence and propose that governments \\nand communities find lasting solutions to conflict and insecurity. That \\nmeans strengthening the rule of law, reducing the flow of illicit arms, \\nand bringing developing countries more into the center of institutions \\nof global governance.'),\n",
       " Document(metadata={'source': 'E:\\\\Practice python\\\\Generative AI Materials\\\\Langchain\\\\Interview_question_creater_web_app\\\\data\\\\SDG.pdf', 'page': 19}, page_content='STRENGTHEN THE MEANS OF \\nIMPLEMENTATION AND REVITALIZE THE \\nGLOBAL PARTNERSHIP FOR SUSTAINABLE \\nDEVELOPMENT \\nThe Sustainable Development Goals are pretty big to-do list, don’t you \\nthink? In fact, it’s so big, you may just want to throw your hands up in the \\nair. “Forget it! Can’t be done! Why even try!” But we’ve got a lot going for \\nus. The world is more interconnected today than ever before, thanks to \\nthe internet, travel and global institutions. There’s a growing consensus \\nabout the need to work together to stop climate change. And the \\nSustainable Development Goals are no small matter either. 193 countries \\nagreed on these goals. Pretty incredible, isn’t it? 193 countries agreeing \\non anything? The final goal lays out a way for nations to work together to \\nachieve all the other Goals. '),\n",
       " Document(metadata={'source': 'E:\\\\Practice python\\\\Generative AI Materials\\\\Langchain\\\\Interview_question_creater_web_app\\\\data\\\\SDG.pdf', 'page': 20}, page_content='Go shopping  Make a donation  \\nStart a fundraiser  \\nSpread the word  Visit shop.undp.org for SDG merchandise, and show off the goals you’re \\nmost passionate about. Money doesn’t just make the world go around; it’s also the most direct \\nway to reduce and eradicate all forms of poverty.\\nFundraising is a great way to raise money, create awareness, and inspire \\nothers. Plus, it’s fun!\\nSearch for @UNDP on Twitter, Facebook and Instagram, and share the \\ncontent you love.\\nTo donate or learn more about fundraising, visit undp.org/takeactionThere are many ways to show your support and help us reach \\nthe Sustainable Development Goals by 2030. Here are a few :WHA T CAN  \\nI DO TO HELP?'),\n",
       " Document(metadata={'source': 'E:\\\\Practice python\\\\Generative AI Materials\\\\Langchain\\\\Interview_question_creater_web_app\\\\data\\\\SDG.pdf', 'page': 21}, page_content='NOTES'),\n",
       " Document(metadata={'source': 'E:\\\\Practice python\\\\Generative AI Materials\\\\Langchain\\\\Interview_question_creater_web_app\\\\data\\\\SDG.pdf', 'page': 22}, page_content='NOTES'),\n",
       " Document(metadata={'source': 'E:\\\\Practice python\\\\Generative AI Materials\\\\Langchain\\\\Interview_question_creater_web_app\\\\data\\\\SDG.pdf', 'page': 23}, page_content='')]"
      ]
     },
     "execution_count": 56,
     "metadata": {},
     "output_type": "execute_result"
    }
   ],
   "source": [
    "data"
   ]
  },
  {
   "cell_type": "code",
   "execution_count": 57,
   "metadata": {},
   "outputs": [
    {
     "data": {
      "text/plain": [
       "24"
      ]
     },
     "execution_count": 57,
     "metadata": {},
     "output_type": "execute_result"
    }
   ],
   "source": [
    "# Let's check Length of data\n",
    "len(data)"
   ]
  },
  {
   "cell_type": "markdown",
   "metadata": {},
   "source": [
    "### **Concatenates the content from multiple pages into a single string**"
   ]
  },
  {
   "cell_type": "code",
   "execution_count": 58,
   "metadata": {},
   "outputs": [
    {
     "name": "stdout",
     "output_type": "stream",
     "text": [
      "IN THE YEAR 2015, LEADERS FROM 193 COUNTRIES OF THE WORLD \n",
      "CAME TOGETHER TO FACE THE FUTURE.\n",
      "And what they saw was daunting. Famines. Drought. Wars. Plagues. Poverty. \n",
      "Not just in some faraway place, but in their own cities and towns and villages.\n",
      "They knew things didn’t have to be this way. They knew we had enough  \n",
      "food to feed the world, but that it wasn’t getting shared. They knew there \n",
      "were medicines for HIV and other diseases, but they cost a lot. They knew  \n",
      "that earthquakes and floods were inevitable, but that the high death  \n",
      "tolls were not. \n",
      "They also knew that billions of people worldwide shared their hope for a \n",
      "better future.\n",
      "So leaders from these countries created a plan called the Sustainable \n",
      "Development Goals (SDGs). This set of 17 goals imagines a future just 15 years \n",
      "off that would be rid of poverty and hunger, and safe from the worst effects of \n",
      "climate change. It’s an ambitious plan. \n",
      "But there’s ample evidence that we can succeed. In the past 15 years, the \n",
      "international community cut extreme poverty in half. \n",
      "Now we can finish the job.\n",
      "The United Nations Development Programme (UNDP) is one of the leading \n",
      "organizations working to fulfil the SDGs by the year 2030. Present in nearly \n",
      "170 countries and territories, we help nations make the Goals a reality.  \n",
      "We also champion the Goals so that people everywhere know how to  \n",
      "do their part. \n",
      "UNDP is proud to continue as a leader in this global movement.\n",
      "Learn about the Sustainable Development Goals.  What’s your Goal? END EXTREME POVERTY IN ALL FORMS  \n",
      "BY 2030.\n",
      "Yes, it’s an ambitious goal—but we believe it can be done. In 2000, the \n",
      "world committed to halving the number of people living in extreme \n",
      "poverty by the year 2015 and we met this goal. However, more than \n",
      "800 million people around the world still live on less than $1.25 a day—\n",
      "that’s about the equivalent of the entire population of Europe living in \n",
      "extreme poverty. Now it’s time to build on what we learned and end \n",
      "poverty altogether. END HUNGER, ACHIEVE FOOD SECURITY \n",
      "AND IMPROVED NUTRITION AND PROMOTE \n",
      "SUSTAINABLE AGRICUL TURE\n",
      "In the past 20 years, hunger has dropped by almost half. Many \n",
      "countries that used to suffer from famine and hunger can now \n",
      "meet the nutritional needs of their most vulnerable people. It’s an \n",
      "incredible accomplishment. Now we can go further and end hunger \n",
      "and malnutrition once and for all. That means doing things such as \n",
      "promoting sustainable agriculture and supporting small farmers. It’s a tall \n",
      "order. But for the sake of the nearly 1 out of every 9 people on earth who \n",
      "go to bed hungry every night, we’ve got to try. Imagine a world where \n",
      "everyone has access to sufficient and nutritious food all year round. \n",
      "Together, we can make that a reality by 2030. ENSURE HEAL THY LIVES AND PROMOTE \n",
      "WELL-BEING FOR ALL AT ALL AGES\n",
      "We all know how important it is to be in good health. Our health affects \n",
      "everything from how much we enjoy life to what work we can perform. \n",
      "That’s why there’s a Goal to make sure everyone has health coverage \n",
      "and access to safe and effective medicines and vaccines. In the 25 \n",
      "years before the SDGs, we made big strides—preventable child deaths \n",
      "dropped by more than half, and maternal mortality went down by \n",
      "almost as much. And yet some other numbers remain tragically high, like \n",
      "the fact that 6 million children die every year before their fifth birthday, \n",
      "or that AIDS is the leading cause of death for adolescents in sub-Saharan \n",
      "Africa. We have the means to turn that around and make good health \n",
      "more than just a wish.ENSURE INCLUSIVE AND EQUITABLE QUALITY \n",
      "EDUCATION AND PROMOTE LIFELONG \n",
      "LEARNING OPPORTUNITIES FOR ALL  \n",
      "First, the bad news on education. Poverty, armed conflict and other \n",
      "emergencies keep many, many kids around the world out of school. In \n",
      "fact, kids from the poorest households are four times more likely to be \n",
      "out of school than those of the richest households. Now for some good \n",
      "news. Since 2000, there has been enormous progress on the goal to \n",
      "provide primary education to all children worldwide: the total enrolment \n",
      "rate in developing regions has reached 91%. By measures in any school, \n",
      "that’s a good grade. Now, let’s get an even better grade for all kids, \n",
      "and achieve the goal of universal primary and secondary education, \n",
      "affordable vocational training, access to higher education and more.We can celebrate the great progress the world has made in becoming \n",
      "more prosperous and fair. But there’s a shadow to the celebration. In \n",
      "just about every way, women and girls lag behind. There are still gross \n",
      "inequalities in work and wages, lots of unpaid “women’s work” such as \n",
      "child care and domestic work, and discrimination in public decision-\n",
      "making. But there are grounds for hope. More girls are in school now \n",
      "compared to in 2000. Most regions have reached gender parity in \n",
      "primary education. The percentage of women getting paid for their work \n",
      "is on the rise. The Sustainable Development Goals aim to build on these \n",
      "achievements to ensure that there is an end to discrimination against \n",
      "women and girls everywhere.ACHIEVE GENDER EQUALITY AND  \n",
      "EMPOWER ALL WOMEN AND GIRLS Everyone on earth should have access to safe and affordable drinking \n",
      "water. That’s the goal for 2030. While many people take clean drinking \n",
      "water and sanitation for granted, many others don’t. Water scarcity \n",
      "affects more than 40 percent of people around the world, and that \n",
      "number is projected to go even higher as a result of climate change. \n",
      "If we continue the path we’re on, by 2050 at least one in four people \n",
      "are likely to be affected by recurring water shortages. But we can take \n",
      "a new path—more international cooperation, protecting wetlands \n",
      "and rivers, sharing water-treatment technologies—that leads to \n",
      "accomplishing this Goal. ENSURE AVAILABILITY AND SUSTAINABLE \n",
      "MANAGEMENT OF WATER AND SANITATION \n",
      "FOR ALL  ENSURE ACCESS TO AFFORDABLE, RELIABLE, \n",
      "SUSTAINABLE AND MODERN ENERGY FOR \n",
      "ALL \n",
      "Between 1990 and 2010, the number of people with access to electricity \n",
      "increased by 1.7 billion. That’s progress to be proud of. And yet as the \n",
      "world’s population continues to rise, still more people will need cheap \n",
      "energy to light their homes and streets, use phones and computers, \n",
      "and do their everyday business. How we get that energy is at issue; fossil \n",
      "fuels and greenhouse gas emissions are making drastic changes in the \n",
      "climate, leading to big problems on every continent. Instead, we can \n",
      "become more energy-efficient and invest in clean energy sources such \n",
      "as solar and wind. That way we’ll meet electricity needs and protect the \n",
      "environment. How’s that for a balancing act?PROMOTE SUSTAINED, INCLUSIVE AND \n",
      "SUSTAINABLE ECONOMIC GROWTH, FULL \n",
      "AND PRODUCTIVE EMPLOYMENT AND \n",
      "DECENT WORK FOR ALL \n",
      "An important part of economic growth is that people have jobs that \n",
      "pay enough to support themselves and their families. The good news \n",
      "is that the middle class is growing worldwide—almost tripling in size \n",
      "in developing countries in the last 25 years, to more than a third of the \n",
      "population. But today, job growth is not keeping pace with the growing \n",
      "labour force. Things don’t have to be that way. We can promote policies \n",
      "that encourage entrepreneurship and job creation. We can eradicate \n",
      "forced labour, slavery and human trafficking. And in the end we can \n",
      "achieve the goal of decent work for all women and men by 2030.BUILD RESILIENT INFRASTRUCTURE, \n",
      "PROMOTE INCLUSIVE AND SUSTAINABLE \n",
      "INDUSTRIALIZATION AND FOSTER \n",
      "INNOVATION \n",
      "Technological progress helps us address big global challenges such as \n",
      "creating jobs and becoming more energy efficient. For example, the \n",
      "world is becoming ever more interconnected and prosperous thanks to \n",
      "the internet. The more connected we are, the more we can all benefit \n",
      "from the wisdom and contributions of people everywhere on earth.  And \n",
      "yet four billion people have no way of getting online, the vast majority \n",
      "of them in developing countries. The more we invest in innovation \n",
      "and infrastructure, the better off we’ll all be. Bridging the digital divide, \n",
      "promoting sustainable industries, and investing in scientific research and \n",
      "innovation are all important ways to facilitate sustainable development.REDUCE INEQUALITY WITHIN AND AMONG \n",
      "COUNTRIES  \n",
      "It’s an old story: the rich get richer, and the poor get poorer. The divide \n",
      "has never been starker. We can and must adopt policies that create \n",
      "opportunity for everyone, regardless of who they are or where they \n",
      "come from. Income inequality is a global problem that requires global \n",
      "solutions. That means improving the regulation of financial markets \n",
      "and institutions, sending development aid where it is most needed \n",
      "and helping people migrate safely so they can pursue opportunities. \n",
      "Together, we can now change the direction of the old story of inequality. MAKE CITIES AND HUMAN SETTLEMENTS \n",
      "INCLUSIVE, SAFE, RESILIENT AND \n",
      "SUSTAINABLE \n",
      "If you’re like most people, you live in a city. More than half the world’s \n",
      "population now lives in cities, and that figure will go to about two-thirds \n",
      "of humanity by the year 2050. Cities are getting bigger. In 1990 there \n",
      "were ten “mega-cities” with 10 million inhabitants or more. In 2014, there \n",
      "were 28 mega-cities, home to 453 million people. Incredible, huh? A lot \n",
      "of people love cities; they’re centers of culture and business and life. The \n",
      "thing is, they’re also often centers of extreme poverty. To make cities \n",
      "sustainable for all, we can create good, affordable public housing. We \n",
      "can upgrade slum settlements. We can invest in public transport, create \n",
      "green spaces, and get a broader range of people involved in urban \n",
      "planning decisions. That way, we can keep the things we love about \n",
      "cities, and change the things we don’t.ENSURE SUSTAINABLE CONSUMPTION AND \n",
      "PRODUCTION PATTERNS\n",
      "Some people use a lot of stuff, and some people use very little—in fact, \n",
      "a big share of the world population is consuming too little to meet even \n",
      "their basic needs. Instead, we can have a world where everybody gets \n",
      "what they need to survive and thrive. And we can consume in a way \n",
      "that preserves our natural resources so that our children can enjoy them, \n",
      "and their children and their children after that. The hard part is how to \n",
      "achieve that goal. We can manage our natural resources more efficiently \n",
      "and dispose of toxic waste better. Cut per capita food waste in half \n",
      "globally. Get businesses and consumers to reduce and recycle waste. \n",
      "And help countries that have typically not consumed a lot to move \n",
      "towards more responsible consumption patterns.TAKE URGENT ACTION TO COMBAT CLIMATE \n",
      "CHANGE AND ITS IMPACTS\n",
      "Every country in the world is seeing the drastic effects of climate \n",
      "change, some more than others. On average, the annual losses just \n",
      "from earthquakes, tsunamis, tropical cyclones and flooding count in the \n",
      "hundreds of billions of dollars. We can reduce the loss of life and property \n",
      "by helping more vulnerable regions—such as land-locked countries \n",
      "and island states—become more resilient. It is still possible, with the \n",
      "political will and technological measures, to limit the increase in global \n",
      "mean temperature to two degrees Celsius above pre-industrial levels—\n",
      "and thus avoid the worst effects of climate change. The Sustainable \n",
      "Development Goals lay out a way for countries to work together to meet \n",
      "this urgent challenge. CONSERVE AND SUSTAINABLY USE THE \n",
      "OCEANS, SEAS AND MARINE RESOURCES \n",
      "FOR SUSTAINABLE DEVELOPMENT\n",
      "The oceans make human life possible. Their temperature, their chemistry, \n",
      "their currents, their life forms. For one thing, more than 3 billion people \n",
      "depend on marine and coastal diversity for their livelihoods. But today \n",
      "we are seeing nearly a third of the world’s fish stocks overexploited. \n",
      "That’s not a sustainable way of life. Even people who live nowhere near \n",
      "the ocean can’t live without it. Oceans absorb about 30 percent of the \n",
      "carbon dioxide that humans produce; but we’re producing more carbon \n",
      "dioxide than ever before and that makes the oceans more acidic—26% \n",
      "more, since the start of the industrial revolution. Our trash doesn’t help \n",
      "either—13,000 pieces of plastic litter on every square kilometer of ocean. \n",
      "Sounds bad, right? Don’t despair! The Sustainable Development Goals \n",
      "indicate targets for managing and protecting life below water. PROTECT, RESTORE AND PROMOTE \n",
      "SUSTAINABLE USE OF TERRESTRIAL \n",
      "ECOSYSTEMS, SUSTAINABLY MANAGE \n",
      "FORESTS, COMBAT DESERTIFICATION, AND \n",
      "HAL T AND REVERSE LAND DEGRADATION \n",
      "AND HAL T BIODIVERSITY LOSS \n",
      "Humans and other animals rely on other forms of life on land for food, \n",
      "clean air, clean water, and as a means of combatting climate change. \n",
      "Plant life makes up 80% of the human diet. Forests, which cover 30% \n",
      "of the Earth’s surface, help keep the air and water clean and the Earth’s \n",
      "climate in balance. That’s not to mention they’re home to millions of \n",
      "animal species. But the land and life on it are in trouble. Arable land \n",
      "is disappearing 30 to 35 times faster than it has historically. Deserts \n",
      "are spreading. Animal breeds are going extinct. We can turn these \n",
      "trends around. Fortunately, the Sustainable Development Goals aim to \n",
      "conserve and restore the use of terrestrial ecosystems such as forests, \n",
      "wetlands, drylands and mountains by 2030. PROMOTE PEACEFUL AND INCLUSIVE \n",
      "SOCIETIES FOR SUSTAINABLE \n",
      "DEVELOPMENT, PROVIDE ACCESS TO \n",
      "JUSTICE FOR ALL AND BUILD EFFECTIVE, \n",
      "ACCOUNTABLE AND INCLUSIVE \n",
      "INSTITUTIONS AT ALL LEVELS \n",
      "How can a country develop—how can people eat and teach and learn \n",
      "and work and raise families—without peace? And how can a country \n",
      "have peace without justice, without human rights, without government \n",
      "based on the rule of law? Some parts of the world enjoy relative peace \n",
      "and justice, and may come to take it for granted. Other parts seem to \n",
      "be plagued by armed conflict, crime, torture and exploitation, all of \n",
      "which hinders their development. The goal of peace and justice is one \n",
      "for all countries to strive towards. The Sustainable Development Goals \n",
      "aim to reduce all forms of violence and propose that governments \n",
      "and communities find lasting solutions to conflict and insecurity. That \n",
      "means strengthening the rule of law, reducing the flow of illicit arms, \n",
      "and bringing developing countries more into the center of institutions \n",
      "of global governance.STRENGTHEN THE MEANS OF \n",
      "IMPLEMENTATION AND REVITALIZE THE \n",
      "GLOBAL PARTNERSHIP FOR SUSTAINABLE \n",
      "DEVELOPMENT \n",
      "The Sustainable Development Goals are pretty big to-do list, don’t you \n",
      "think? In fact, it’s so big, you may just want to throw your hands up in the \n",
      "air. “Forget it! Can’t be done! Why even try!” But we’ve got a lot going for \n",
      "us. The world is more interconnected today than ever before, thanks to \n",
      "the internet, travel and global institutions. There’s a growing consensus \n",
      "about the need to work together to stop climate change. And the \n",
      "Sustainable Development Goals are no small matter either. 193 countries \n",
      "agreed on these goals. Pretty incredible, isn’t it? 193 countries agreeing \n",
      "on anything? The final goal lays out a way for nations to work together to \n",
      "achieve all the other Goals. Go shopping  Make a donation  \n",
      "Start a fundraiser  \n",
      "Spread the word  Visit shop.undp.org for SDG merchandise, and show off the goals you’re \n",
      "most passionate about. Money doesn’t just make the world go around; it’s also the most direct \n",
      "way to reduce and eradicate all forms of poverty.\n",
      "Fundraising is a great way to raise money, create awareness, and inspire \n",
      "others. Plus, it’s fun!\n",
      "Search for @UNDP on Twitter, Facebook and Instagram, and share the \n",
      "content you love.\n",
      "To donate or learn more about fundraising, visit undp.org/takeactionThere are many ways to show your support and help us reach \n",
      "the Sustainable Development Goals by 2030. Here are a few :WHA T CAN  \n",
      "I DO TO HELP?NOTESNOTES\n"
     ]
    }
   ],
   "source": [
    "# Initialize an empty string to hold the generated questions\n",
    "question_gen = \"\"\n",
    "\n",
    "# Iterate through each page in the data collection\n",
    "for page in data:\n",
    "    # Append the content of the current page to the question_gen string\n",
    "    question_gen += page.page_content\n",
    "\n",
    "# Output the final concatenated string of page contents\n",
    "print(question_gen)"
   ]
  },
  {
   "cell_type": "markdown",
   "metadata": {},
   "source": [
    "### **Create Chunks of Data**"
   ]
  },
  {
   "cell_type": "code",
   "execution_count": 59,
   "metadata": {},
   "outputs": [],
   "source": [
    "# Create an instance of TokenTextSplitter for generating question splits\n",
    "splitter_ques_gen = TokenTextSplitter(\n",
    "    model_name=\"gpt-3.5-turbo\",  # Specify the model to use for tokenizing text\n",
    "    chunk_size=10000,              # Set the maximum size of each text chunk to 1000 tokens\n",
    "    chunk_overlap=200             # Allow an overlap of 200 tokens between consecutive chunks\n",
    ")"
   ]
  },
  {
   "cell_type": "code",
   "execution_count": 60,
   "metadata": {},
   "outputs": [],
   "source": [
    "# Use the splitter_ques_gen instance to split the concatenated question text into chunks\n",
    "chunk_ques_gen = splitter_ques_gen.split_text(question_gen)"
   ]
  },
  {
   "cell_type": "code",
   "execution_count": 61,
   "metadata": {},
   "outputs": [
    {
     "data": {
      "text/plain": [
       "list"
      ]
     },
     "execution_count": 61,
     "metadata": {},
     "output_type": "execute_result"
    }
   ],
   "source": [
    "type(chunk_ques_gen) # we can see it's in list format we need to convert it into document format"
   ]
  },
  {
   "cell_type": "code",
   "execution_count": 62,
   "metadata": {},
   "outputs": [],
   "source": [
    "# Create a list of Document objects, each initialized with a chunk of text\n",
    "document_ques_gen = [Document(page_content=chunk) for chunk in chunk_ques_gen]"
   ]
  },
  {
   "cell_type": "code",
   "execution_count": 63,
   "metadata": {},
   "outputs": [
    {
     "data": {
      "text/plain": [
       "[Document(metadata={}, page_content='IN THE YEAR 2015, LEADERS FROM 193 COUNTRIES OF THE WORLD \\nCAME TOGETHER TO FACE THE FUTURE.\\nAnd what they saw was daunting. Famines. Drought. Wars. Plagues. Poverty. \\nNot just in some faraway place, but in their own cities and towns and villages.\\nThey knew things didn’t have to be this way. They knew we had enough  \\nfood to feed the world, but that it wasn’t getting shared. They knew there \\nwere medicines for HIV and other diseases, but they cost a lot. They knew  \\nthat earthquakes and floods were inevitable, but that the high death  \\ntolls were not. \\nThey also knew that billions of people worldwide shared their hope for a \\nbetter future.\\nSo leaders from these countries created a plan called the Sustainable \\nDevelopment Goals (SDGs). This set of 17 goals imagines a future just 15 years \\noff that would be rid of poverty and hunger, and safe from the worst effects of \\nclimate change. It’s an ambitious plan. \\nBut there’s ample evidence that we can succeed. In the past 15 years, the \\ninternational community cut extreme poverty in half. \\nNow we can finish the job.\\nThe United Nations Development Programme (UNDP) is one of the leading \\norganizations working to fulfil the SDGs by the year 2030. Present in nearly \\n170 countries and territories, we help nations make the Goals a reality.  \\nWe also champion the Goals so that people everywhere know how to  \\ndo their part. \\nUNDP is proud to continue as a leader in this global movement.\\nLearn about the Sustainable Development Goals.  What’s your Goal? END EXTREME POVERTY IN ALL FORMS  \\nBY 2030.\\nYes, it’s an ambitious goal—but we believe it can be done. In 2000, the \\nworld committed to halving the number of people living in extreme \\npoverty by the year 2015 and we met this goal. However, more than \\n800 million people around the world still live on less than $1.25 a day—\\nthat’s about the equivalent of the entire population of Europe living in \\nextreme poverty. Now it’s time to build on what we learned and end \\npoverty altogether. END HUNGER, ACHIEVE FOOD SECURITY \\nAND IMPROVED NUTRITION AND PROMOTE \\nSUSTAINABLE AGRICUL TURE\\nIn the past 20 years, hunger has dropped by almost half. Many \\ncountries that used to suffer from famine and hunger can now \\nmeet the nutritional needs of their most vulnerable people. It’s an \\nincredible accomplishment. Now we can go further and end hunger \\nand malnutrition once and for all. That means doing things such as \\npromoting sustainable agriculture and supporting small farmers. It’s a tall \\norder. But for the sake of the nearly 1 out of every 9 people on earth who \\ngo to bed hungry every night, we’ve got to try. Imagine a world where \\neveryone has access to sufficient and nutritious food all year round. \\nTogether, we can make that a reality by 2030. ENSURE HEAL THY LIVES AND PROMOTE \\nWELL-BEING FOR ALL AT ALL AGES\\nWe all know how important it is to be in good health. Our health affects \\neverything from how much we enjoy life to what work we can perform. \\nThat’s why there’s a Goal to make sure everyone has health coverage \\nand access to safe and effective medicines and vaccines. In the 25 \\nyears before the SDGs, we made big strides—preventable child deaths \\ndropped by more than half, and maternal mortality went down by \\nalmost as much. And yet some other numbers remain tragically high, like \\nthe fact that 6 million children die every year before their fifth birthday, \\nor that AIDS is the leading cause of death for adolescents in sub-Saharan \\nAfrica. We have the means to turn that around and make good health \\nmore than just a wish.ENSURE INCLUSIVE AND EQUITABLE QUALITY \\nEDUCATION AND PROMOTE LIFELONG \\nLEARNING OPPORTUNITIES FOR ALL  \\nFirst, the bad news on education. Poverty, armed conflict and other \\nemergencies keep many, many kids around the world out of school. In \\nfact, kids from the poorest households are four times more likely to be \\nout of school than those of the richest households. Now for some good \\nnews. Since 2000, there has been enormous progress on the goal to \\nprovide primary education to all children worldwide: the total enrolment \\nrate in developing regions has reached 91%. By measures in any school, \\nthat’s a good grade. Now, let’s get an even better grade for all kids, \\nand achieve the goal of universal primary and secondary education, \\naffordable vocational training, access to higher education and more.We can celebrate the great progress the world has made in becoming \\nmore prosperous and fair. But there’s a shadow to the celebration. In \\njust about every way, women and girls lag behind. There are still gross \\ninequalities in work and wages, lots of unpaid “women’s work” such as \\nchild care and domestic work, and discrimination in public decision-\\nmaking. But there are grounds for hope. More girls are in school now \\ncompared to in 2000. Most regions have reached gender parity in \\nprimary education. The percentage of women getting paid for their work \\nis on the rise. The Sustainable Development Goals aim to build on these \\nachievements to ensure that there is an end to discrimination against \\nwomen and girls everywhere.ACHIEVE GENDER EQUALITY AND  \\nEMPOWER ALL WOMEN AND GIRLS Everyone on earth should have access to safe and affordable drinking \\nwater. That’s the goal for 2030. While many people take clean drinking \\nwater and sanitation for granted, many others don’t. Water scarcity \\naffects more than 40 percent of people around the world, and that \\nnumber is projected to go even higher as a result of climate change. \\nIf we continue the path we’re on, by 2050 at least one in four people \\nare likely to be affected by recurring water shortages. But we can take \\na new path—more international cooperation, protecting wetlands \\nand rivers, sharing water-treatment technologies—that leads to \\naccomplishing this Goal. ENSURE AVAILABILITY AND SUSTAINABLE \\nMANAGEMENT OF WATER AND SANITATION \\nFOR ALL  ENSURE ACCESS TO AFFORDABLE, RELIABLE, \\nSUSTAINABLE AND MODERN ENERGY FOR \\nALL \\nBetween 1990 and 2010, the number of people with access to electricity \\nincreased by 1.7 billion. That’s progress to be proud of. And yet as the \\nworld’s population continues to rise, still more people will need cheap \\nenergy to light their homes and streets, use phones and computers, \\nand do their everyday business. How we get that energy is at issue; fossil \\nfuels and greenhouse gas emissions are making drastic changes in the \\nclimate, leading to big problems on every continent. Instead, we can \\nbecome more energy-efficient and invest in clean energy sources such \\nas solar and wind. That way we’ll meet electricity needs and protect the \\nenvironment. How’s that for a balancing act?PROMOTE SUSTAINED, INCLUSIVE AND \\nSUSTAINABLE ECONOMIC GROWTH, FULL \\nAND PRODUCTIVE EMPLOYMENT AND \\nDECENT WORK FOR ALL \\nAn important part of economic growth is that people have jobs that \\npay enough to support themselves and their families. The good news \\nis that the middle class is growing worldwide—almost tripling in size \\nin developing countries in the last 25 years, to more than a third of the \\npopulation. But today, job growth is not keeping pace with the growing \\nlabour force. Things don’t have to be that way. We can promote policies \\nthat encourage entrepreneurship and job creation. We can eradicate \\nforced labour, slavery and human trafficking. And in the end we can \\nachieve the goal of decent work for all women and men by 2030.BUILD RESILIENT INFRASTRUCTURE, \\nPROMOTE INCLUSIVE AND SUSTAINABLE \\nINDUSTRIALIZATION AND FOSTER \\nINNOVATION \\nTechnological progress helps us address big global challenges such as \\ncreating jobs and becoming more energy efficient. For example, the \\nworld is becoming ever more interconnected and prosperous thanks to \\nthe internet. The more connected we are, the more we can all benefit \\nfrom the wisdom and contributions of people everywhere on earth.  And \\nyet four billion people have no way of getting online, the vast majority \\nof them in developing countries. The more we invest in innovation \\nand infrastructure, the better off we’ll all be. Bridging the digital divide, \\npromoting sustainable industries, and investing in scientific research and \\ninnovation are all important ways to facilitate sustainable development.REDUCE INEQUALITY WITHIN AND AMONG \\nCOUNTRIES  \\nIt’s an old story: the rich get richer, and the poor get poorer. The divide \\nhas never been starker. We can and must adopt policies that create \\nopportunity for everyone, regardless of who they are or where they \\ncome from. Income inequality is a global problem that requires global \\nsolutions. That means improving the regulation of financial markets \\nand institutions, sending development aid where it is most needed \\nand helping people migrate safely so they can pursue opportunities. \\nTogether, we can now change the direction of the old story of inequality. MAKE CITIES AND HUMAN SETTLEMENTS \\nINCLUSIVE, SAFE, RESILIENT AND \\nSUSTAINABLE \\nIf you’re like most people, you live in a city. More than half the world’s \\npopulation now lives in cities, and that figure will go to about two-thirds \\nof humanity by the year 2050. Cities are getting bigger. In 1990 there \\nwere ten “mega-cities” with 10 million inhabitants or more. In 2014, there \\nwere 28 mega-cities, home to 453 million people. Incredible, huh? A lot \\nof people love cities; they’re centers of culture and business and life. The \\nthing is, they’re also often centers of extreme poverty. To make cities \\nsustainable for all, we can create good, affordable public housing. We \\ncan upgrade slum settlements. We can invest in public transport, create \\ngreen spaces, and get a broader range of people involved in urban \\nplanning decisions. That way, we can keep the things we love about \\ncities, and change the things we don’t.ENSURE SUSTAINABLE CONSUMPTION AND \\nPRODUCTION PATTERNS\\nSome people use a lot of stuff, and some people use very little—in fact, \\na big share of the world population is consuming too little to meet even \\ntheir basic needs. Instead, we can have a world where everybody gets \\nwhat they need to survive and thrive. And we can consume in a way \\nthat preserves our natural resources so that our children can enjoy them, \\nand their children and their children after that. The hard part is how to \\nachieve that goal. We can manage our natural resources more efficiently \\nand dispose of toxic waste better. Cut per capita food waste in half \\nglobally. Get businesses and consumers to reduce and recycle waste. \\nAnd help countries that have typically not consumed a lot to move \\ntowards more responsible consumption patterns.TAKE URGENT ACTION TO COMBAT CLIMATE \\nCHANGE AND ITS IMPACTS\\nEvery country in the world is seeing the drastic effects of climate \\nchange, some more than others. On average, the annual losses just \\nfrom earthquakes, tsunamis, tropical cyclones and flooding count in the \\nhundreds of billions of dollars. We can reduce the loss of life and property \\nby helping more vulnerable regions—such as land-locked countries \\nand island states—become more resilient. It is still possible, with the \\npolitical will and technological measures, to limit the increase in global \\nmean temperature to two degrees Celsius above pre-industrial levels—\\nand thus avoid the worst effects of climate change. The Sustainable \\nDevelopment Goals lay out a way for countries to work together to meet \\nthis urgent challenge. CONSERVE AND SUSTAINABLY USE THE \\nOCEANS, SEAS AND MARINE RESOURCES \\nFOR SUSTAINABLE DEVELOPMENT\\nThe oceans make human life possible. Their temperature, their chemistry, \\ntheir currents, their life forms. For one thing, more than 3 billion people \\ndepend on marine and coastal diversity for their livelihoods. But today \\nwe are seeing nearly a third of the world’s fish stocks overexploited. \\nThat’s not a sustainable way of life. Even people who live nowhere near \\nthe ocean can’t live without it. Oceans absorb about 30 percent of the \\ncarbon dioxide that humans produce; but we’re producing more carbon \\ndioxide than ever before and that makes the oceans more acidic—26% \\nmore, since the start of the industrial revolution. Our trash doesn’t help \\neither—13,000 pieces of plastic litter on every square kilometer of ocean. \\nSounds bad, right? Don’t despair! The Sustainable Development Goals \\nindicate targets for managing and protecting life below water. PROTECT, RESTORE AND PROMOTE \\nSUSTAINABLE USE OF TERRESTRIAL \\nECOSYSTEMS, SUSTAINABLY MANAGE \\nFORESTS, COMBAT DESERTIFICATION, AND \\nHAL T AND REVERSE LAND DEGRADATION \\nAND HAL T BIODIVERSITY LOSS \\nHumans and other animals rely on other forms of life on land for food, \\nclean air, clean water, and as a means of combatting climate change. \\nPlant life makes up 80% of the human diet. Forests, which cover 30% \\nof the Earth’s surface, help keep the air and water clean and the Earth’s \\nclimate in balance. That’s not to mention they’re home to millions of \\nanimal species. But the land and life on it are in trouble. Arable land \\nis disappearing 30 to 35 times faster than it has historically. Deserts \\nare spreading. Animal breeds are going extinct. We can turn these \\ntrends around. Fortunately, the Sustainable Development Goals aim to \\nconserve and restore the use of terrestrial ecosystems such as forests, \\nwetlands, drylands and mountains by 2030. PROMOTE PEACEFUL AND INCLUSIVE \\nSOCIETIES FOR SUSTAINABLE \\nDEVELOPMENT, PROVIDE ACCESS TO \\nJUSTICE FOR ALL AND BUILD EFFECTIVE, \\nACCOUNTABLE AND INCLUSIVE \\nINSTITUTIONS AT ALL LEVELS \\nHow can a country develop—how can people eat and teach and learn \\nand work and raise families—without peace? And how can a country \\nhave peace without justice, without human rights, without government \\nbased on the rule of law? Some parts of the world enjoy relative peace \\nand justice, and may come to take it for granted. Other parts seem to \\nbe plagued by armed conflict, crime, torture and exploitation, all of \\nwhich hinders their development. The goal of peace and justice is one \\nfor all countries to strive towards. The Sustainable Development Goals \\naim to reduce all forms of violence and propose that governments \\nand communities find lasting solutions to conflict and insecurity. That \\nmeans strengthening the rule of law, reducing the flow of illicit arms, \\nand bringing developing countries more into the center of institutions \\nof global governance.STRENGTHEN THE MEANS OF \\nIMPLEMENTATION AND REVITALIZE THE \\nGLOBAL PARTNERSHIP FOR SUSTAINABLE \\nDEVELOPMENT \\nThe Sustainable Development Goals are pretty big to-do list, don’t you \\nthink? In fact, it’s so big, you may just want to throw your hands up in the \\nair. “Forget it! Can’t be done! Why even try!” But we’ve got a lot going for \\nus. The world is more interconnected today than ever before, thanks to \\nthe internet, travel and global institutions. There’s a growing consensus \\nabout the need to work together to stop climate change. And the \\nSustainable Development Goals are no small matter either. 193 countries \\nagreed on these goals. Pretty incredible, isn’t it? 193 countries agreeing \\non anything? The final goal lays out a way for nations to work together to \\nachieve all the other Goals. Go shopping  Make a donation  \\nStart a fundraiser  \\nSpread the word  Visit shop.undp.org for SDG merchandise, and show off the goals you’re \\nmost passionate about. Money doesn’t just make the world go around; it’s also the most direct \\nway to reduce and eradicate all forms of poverty.\\nFundraising is a great way to raise money, create awareness, and inspire \\nothers. Plus, it’s fun!\\nSearch for @UNDP on Twitter, Facebook and Instagram, and share the \\ncontent you love.\\nTo donate or learn more about fundraising, visit undp.org/takeactionThere are many ways to show your support and help us reach \\nthe Sustainable Development Goals by 2030. Here are a few :WHA T CAN  \\nI DO TO HELP?NOTESNOTES')]"
      ]
     },
     "execution_count": 63,
     "metadata": {},
     "output_type": "execute_result"
    }
   ],
   "source": [
    "document_ques_gen"
   ]
  },
  {
   "cell_type": "code",
   "execution_count": 64,
   "metadata": {},
   "outputs": [
    {
     "data": {
      "text/plain": [
       "langchain_core.documents.base.Document"
      ]
     },
     "execution_count": 64,
     "metadata": {},
     "output_type": "execute_result"
    }
   ],
   "source": [
    "type(document_ques_gen[0])"
   ]
  },
  {
   "cell_type": "code",
   "execution_count": 65,
   "metadata": {},
   "outputs": [],
   "source": [
    "# Create an instance of TokenTextSplitter for generating answer splits\n",
    "splitter_ans_gen = TokenTextSplitter(\n",
    "    model_name=\"gpt-3.5-turbo\",  # Specify the model to use for tokenizing text\n",
    "    chunk_size=1000,              # Set the maximum size of each text chunk to 1000 tokens\n",
    "    chunk_overlap=100             # Allow an overlap of 100 tokens between consecutive chunks\n",
    ")"
   ]
  },
  {
   "cell_type": "code",
   "execution_count": 66,
   "metadata": {},
   "outputs": [],
   "source": [
    "# Use the splitter_ans_gen instance to split the list of Document objects into smaller segments\n",
    "document_ans_gen = splitter_ans_gen.split_documents(document_ques_gen)"
   ]
  },
  {
   "cell_type": "code",
   "execution_count": 67,
   "metadata": {},
   "outputs": [
    {
     "data": {
      "text/plain": [
       "[Document(metadata={}, page_content='IN THE YEAR 2015, LEADERS FROM 193 COUNTRIES OF THE WORLD \\nCAME TOGETHER TO FACE THE FUTURE.\\nAnd what they saw was daunting. Famines. Drought. Wars. Plagues. Poverty. \\nNot just in some faraway place, but in their own cities and towns and villages.\\nThey knew things didn’t have to be this way. They knew we had enough  \\nfood to feed the world, but that it wasn’t getting shared. They knew there \\nwere medicines for HIV and other diseases, but they cost a lot. They knew  \\nthat earthquakes and floods were inevitable, but that the high death  \\ntolls were not. \\nThey also knew that billions of people worldwide shared their hope for a \\nbetter future.\\nSo leaders from these countries created a plan called the Sustainable \\nDevelopment Goals (SDGs). This set of 17 goals imagines a future just 15 years \\noff that would be rid of poverty and hunger, and safe from the worst effects of \\nclimate change. It’s an ambitious plan. \\nBut there’s ample evidence that we can succeed. In the past 15 years, the \\ninternational community cut extreme poverty in half. \\nNow we can finish the job.\\nThe United Nations Development Programme (UNDP) is one of the leading \\norganizations working to fulfil the SDGs by the year 2030. Present in nearly \\n170 countries and territories, we help nations make the Goals a reality.  \\nWe also champion the Goals so that people everywhere know how to  \\ndo their part. \\nUNDP is proud to continue as a leader in this global movement.\\nLearn about the Sustainable Development Goals.  What’s your Goal? END EXTREME POVERTY IN ALL FORMS  \\nBY 2030.\\nYes, it’s an ambitious goal—but we believe it can be done. In 2000, the \\nworld committed to halving the number of people living in extreme \\npoverty by the year 2015 and we met this goal. However, more than \\n800 million people around the world still live on less than $1.25 a day—\\nthat’s about the equivalent of the entire population of Europe living in \\nextreme poverty. Now it’s time to build on what we learned and end \\npoverty altogether. END HUNGER, ACHIEVE FOOD SECURITY \\nAND IMPROVED NUTRITION AND PROMOTE \\nSUSTAINABLE AGRICUL TURE\\nIn the past 20 years, hunger has dropped by almost half. Many \\ncountries that used to suffer from famine and hunger can now \\nmeet the nutritional needs of their most vulnerable people. It’s an \\nincredible accomplishment. Now we can go further and end hunger \\nand malnutrition once and for all. That means doing things such as \\npromoting sustainable agriculture and supporting small farmers. It’s a tall \\norder. But for the sake of the nearly 1 out of every 9 people on earth who \\ngo to bed hungry every night, we’ve got to try. Imagine a world where \\neveryone has access to sufficient and nutritious food all year round. \\nTogether, we can make that a reality by 2030. ENSURE HEAL THY LIVES AND PROMOTE \\nWELL-BEING FOR ALL AT ALL AGES\\nWe all know how important it is to be in good health. Our health affects \\neverything from how much we enjoy life to what work we can perform. \\nThat’s why there’s a Goal to make sure everyone has health coverage \\nand access to safe and effective medicines and vaccines. In the 25 \\nyears before the SDGs, we made big strides—preventable child deaths \\ndropped by more than half, and maternal mortality went down by \\nalmost as much. And yet some other numbers remain tragically high, like \\nthe fact that 6 million children die every year before their fifth birthday, \\nor that AIDS is the leading cause of death for adolescents in sub-Saharan \\nAfrica. We have the means to turn that around and make good health \\nmore than just a wish.ENSURE INCLUSIVE AND EQUITABLE QUALITY \\nEDUCATION AND PROMOTE LIFELONG \\nLEARNING OPPORTUNITIES FOR ALL  \\nFirst, the bad news on education. Poverty, armed conflict and other \\nemergencies keep many, many kids around the world out of school. In \\nfact, kids from the poorest households are four times more likely to be \\nout of school than those of the richest households. Now for some good \\nnews. Since 2000, there has been enormous progress on the goal to \\nprovide primary education to all children worldwide: the total enrolment \\nrate in developing regions has reached 91%. By measures in any school, \\nthat’s a good grade. Now, let’s get an even better grade for all kids, \\n'),\n",
       " Document(metadata={}, page_content=' school. In \\nfact, kids from the poorest households are four times more likely to be \\nout of school than those of the richest households. Now for some good \\nnews. Since 2000, there has been enormous progress on the goal to \\nprovide primary education to all children worldwide: the total enrolment \\nrate in developing regions has reached 91%. By measures in any school, \\nthat’s a good grade. Now, let’s get an even better grade for all kids, \\nand achieve the goal of universal primary and secondary education, \\naffordable vocational training, access to higher education and more.We can celebrate the great progress the world has made in becoming \\nmore prosperous and fair. But there’s a shadow to the celebration. In \\njust about every way, women and girls lag behind. There are still gross \\ninequalities in work and wages, lots of unpaid “women’s work” such as \\nchild care and domestic work, and discrimination in public decision-\\nmaking. But there are grounds for hope. More girls are in school now \\ncompared to in 2000. Most regions have reached gender parity in \\nprimary education. The percentage of women getting paid for their work \\nis on the rise. The Sustainable Development Goals aim to build on these \\nachievements to ensure that there is an end to discrimination against \\nwomen and girls everywhere.ACHIEVE GENDER EQUALITY AND  \\nEMPOWER ALL WOMEN AND GIRLS Everyone on earth should have access to safe and affordable drinking \\nwater. That’s the goal for 2030. While many people take clean drinking \\nwater and sanitation for granted, many others don’t. Water scarcity \\naffects more than 40 percent of people around the world, and that \\nnumber is projected to go even higher as a result of climate change. \\nIf we continue the path we’re on, by 2050 at least one in four people \\nare likely to be affected by recurring water shortages. But we can take \\na new path—more international cooperation, protecting wetlands \\nand rivers, sharing water-treatment technologies—that leads to \\naccomplishing this Goal. ENSURE AVAILABILITY AND SUSTAINABLE \\nMANAGEMENT OF WATER AND SANITATION \\nFOR ALL  ENSURE ACCESS TO AFFORDABLE, RELIABLE, \\nSUSTAINABLE AND MODERN ENERGY FOR \\nALL \\nBetween 1990 and 2010, the number of people with access to electricity \\nincreased by 1.7 billion. That’s progress to be proud of. And yet as the \\nworld’s population continues to rise, still more people will need cheap \\nenergy to light their homes and streets, use phones and computers, \\nand do their everyday business. How we get that energy is at issue; fossil \\nfuels and greenhouse gas emissions are making drastic changes in the \\nclimate, leading to big problems on every continent. Instead, we can \\nbecome more energy-efficient and invest in clean energy sources such \\nas solar and wind. That way we’ll meet electricity needs and protect the \\nenvironment. How’s that for a balancing act?PROMOTE SUSTAINED, INCLUSIVE AND \\nSUSTAINABLE ECONOMIC GROWTH, FULL \\nAND PRODUCTIVE EMPLOYMENT AND \\nDECENT WORK FOR ALL \\nAn important part of economic growth is that people have jobs that \\npay enough to support themselves and their families. The good news \\nis that the middle class is growing worldwide—almost tripling in size \\nin developing countries in the last 25 years, to more than a third of the \\npopulation. But today, job growth is not keeping pace with the growing \\nlabour force. Things don’t have to be that way. We can promote policies \\nthat encourage entrepreneurship and job creation. We can eradicate \\nforced labour, slavery and human trafficking. And in the end we can \\nachieve the goal of decent work for all women and men by 2030.BUILD RESILIENT INFRASTRUCTURE, \\nPROMOTE INCLUSIVE AND SUSTAINABLE \\nINDUSTRIALIZATION AND FOSTER \\nINNOVATION \\nTechnological progress helps us address big global challenges such as \\ncreating jobs and becoming more energy efficient. For example, the \\nworld is becoming ever more interconnected and prosperous thanks to \\nthe internet. The more connected we are, the more we can all benefit \\nfrom the wisdom and contributions of people everywhere on earth.  And \\nyet four billion people have no way of getting online, the vast majority \\nof them in developing countries. The more we invest in innovation \\nand infrastructure, the better off we’ll all be. Bridging the digital divide, \\npromoting sustainable industries, and investing in scientific research and \\ninnovation are all important ways to facilitate sustainable development.REDUCE INEQUALITY WITHIN AND AMONG \\nCOUNTRIES  \\nIt’s an old story: the'),\n",
       " Document(metadata={}, page_content=' contributions of people everywhere on earth.  And \\nyet four billion people have no way of getting online, the vast majority \\nof them in developing countries. The more we invest in innovation \\nand infrastructure, the better off we’ll all be. Bridging the digital divide, \\npromoting sustainable industries, and investing in scientific research and \\ninnovation are all important ways to facilitate sustainable development.REDUCE INEQUALITY WITHIN AND AMONG \\nCOUNTRIES  \\nIt’s an old story: the rich get richer, and the poor get poorer. The divide \\nhas never been starker. We can and must adopt policies that create \\nopportunity for everyone, regardless of who they are or where they \\ncome from. Income inequality is a global problem that requires global \\nsolutions. That means improving the regulation of financial markets \\nand institutions, sending development aid where it is most needed \\nand helping people migrate safely so they can pursue opportunities. \\nTogether, we can now change the direction of the old story of inequality. MAKE CITIES AND HUMAN SETTLEMENTS \\nINCLUSIVE, SAFE, RESILIENT AND \\nSUSTAINABLE \\nIf you’re like most people, you live in a city. More than half the world’s \\npopulation now lives in cities, and that figure will go to about two-thirds \\nof humanity by the year 2050. Cities are getting bigger. In 1990 there \\nwere ten “mega-cities” with 10 million inhabitants or more. In 2014, there \\nwere 28 mega-cities, home to 453 million people. Incredible, huh? A lot \\nof people love cities; they’re centers of culture and business and life. The \\nthing is, they’re also often centers of extreme poverty. To make cities \\nsustainable for all, we can create good, affordable public housing. We \\ncan upgrade slum settlements. We can invest in public transport, create \\ngreen spaces, and get a broader range of people involved in urban \\nplanning decisions. That way, we can keep the things we love about \\ncities, and change the things we don’t.ENSURE SUSTAINABLE CONSUMPTION AND \\nPRODUCTION PATTERNS\\nSome people use a lot of stuff, and some people use very little—in fact, \\na big share of the world population is consuming too little to meet even \\ntheir basic needs. Instead, we can have a world where everybody gets \\nwhat they need to survive and thrive. And we can consume in a way \\nthat preserves our natural resources so that our children can enjoy them, \\nand their children and their children after that. The hard part is how to \\nachieve that goal. We can manage our natural resources more efficiently \\nand dispose of toxic waste better. Cut per capita food waste in half \\nglobally. Get businesses and consumers to reduce and recycle waste. \\nAnd help countries that have typically not consumed a lot to move \\ntowards more responsible consumption patterns.TAKE URGENT ACTION TO COMBAT CLIMATE \\nCHANGE AND ITS IMPACTS\\nEvery country in the world is seeing the drastic effects of climate \\nchange, some more than others. On average, the annual losses just \\nfrom earthquakes, tsunamis, tropical cyclones and flooding count in the \\nhundreds of billions of dollars. We can reduce the loss of life and property \\nby helping more vulnerable regions—such as land-locked countries \\nand island states—become more resilient. It is still possible, with the \\npolitical will and technological measures, to limit the increase in global \\nmean temperature to two degrees Celsius above pre-industrial levels—\\nand thus avoid the worst effects of climate change. The Sustainable \\nDevelopment Goals lay out a way for countries to work together to meet \\nthis urgent challenge. CONSERVE AND SUSTAINABLY USE THE \\nOCEANS, SEAS AND MARINE RESOURCES \\nFOR SUSTAINABLE DEVELOPMENT\\nThe oceans make human life possible. Their temperature, their chemistry, \\ntheir currents, their life forms. For one thing, more than 3 billion people \\ndepend on marine and coastal diversity for their livelihoods. But today \\nwe are seeing nearly a third of the world’s fish stocks overexploited. \\nThat’s not a sustainable way of life. Even people who live nowhere near \\nthe ocean can’t live without it. Oceans absorb about 30 percent of the \\ncarbon dioxide that humans produce; but we’re producing more carbon \\ndioxide than ever before and that makes the oceans more acidic—26% \\nmore, since the start of the industrial revolution. Our trash doesn’t help \\neither—13,000 pieces of plastic litter on every square kilometer of ocean. \\nSounds bad, right? Don’t despair! The Sustainable Development Goals \\nindicate targets for managing and protecting life below water. PROTECT, RESTORE AND PROM'),\n",
       " Document(metadata={}, page_content='30 percent of the \\ncarbon dioxide that humans produce; but we’re producing more carbon \\ndioxide than ever before and that makes the oceans more acidic—26% \\nmore, since the start of the industrial revolution. Our trash doesn’t help \\neither—13,000 pieces of plastic litter on every square kilometer of ocean. \\nSounds bad, right? Don’t despair! The Sustainable Development Goals \\nindicate targets for managing and protecting life below water. PROTECT, RESTORE AND PROMOTE \\nSUSTAINABLE USE OF TERRESTRIAL \\nECOSYSTEMS, SUSTAINABLY MANAGE \\nFORESTS, COMBAT DESERTIFICATION, AND \\nHAL T AND REVERSE LAND DEGRADATION \\nAND HAL T BIODIVERSITY LOSS \\nHumans and other animals rely on other forms of life on land for food, \\nclean air, clean water, and as a means of combatting climate change. \\nPlant life makes up 80% of the human diet. Forests, which cover 30% \\nof the Earth’s surface, help keep the air and water clean and the Earth’s \\nclimate in balance. That’s not to mention they’re home to millions of \\nanimal species. But the land and life on it are in trouble. Arable land \\nis disappearing 30 to 35 times faster than it has historically. Deserts \\nare spreading. Animal breeds are going extinct. We can turn these \\ntrends around. Fortunately, the Sustainable Development Goals aim to \\nconserve and restore the use of terrestrial ecosystems such as forests, \\nwetlands, drylands and mountains by 2030. PROMOTE PEACEFUL AND INCLUSIVE \\nSOCIETIES FOR SUSTAINABLE \\nDEVELOPMENT, PROVIDE ACCESS TO \\nJUSTICE FOR ALL AND BUILD EFFECTIVE, \\nACCOUNTABLE AND INCLUSIVE \\nINSTITUTIONS AT ALL LEVELS \\nHow can a country develop—how can people eat and teach and learn \\nand work and raise families—without peace? And how can a country \\nhave peace without justice, without human rights, without government \\nbased on the rule of law? Some parts of the world enjoy relative peace \\nand justice, and may come to take it for granted. Other parts seem to \\nbe plagued by armed conflict, crime, torture and exploitation, all of \\nwhich hinders their development. The goal of peace and justice is one \\nfor all countries to strive towards. The Sustainable Development Goals \\naim to reduce all forms of violence and propose that governments \\nand communities find lasting solutions to conflict and insecurity. That \\nmeans strengthening the rule of law, reducing the flow of illicit arms, \\nand bringing developing countries more into the center of institutions \\nof global governance.STRENGTHEN THE MEANS OF \\nIMPLEMENTATION AND REVITALIZE THE \\nGLOBAL PARTNERSHIP FOR SUSTAINABLE \\nDEVELOPMENT \\nThe Sustainable Development Goals are pretty big to-do list, don’t you \\nthink? In fact, it’s so big, you may just want to throw your hands up in the \\nair. “Forget it! Can’t be done! Why even try!” But we’ve got a lot going for \\nus. The world is more interconnected today than ever before, thanks to \\nthe internet, travel and global institutions. There’s a growing consensus \\nabout the need to work together to stop climate change. And the \\nSustainable Development Goals are no small matter either. 193 countries \\nagreed on these goals. Pretty incredible, isn’t it? 193 countries agreeing \\non anything? The final goal lays out a way for nations to work together to \\nachieve all the other Goals. Go shopping  Make a donation  \\nStart a fundraiser  \\nSpread the word  Visit shop.undp.org for SDG merchandise, and show off the goals you’re \\nmost passionate about. Money doesn’t just make the world go around; it’s also the most direct \\nway to reduce and eradicate all forms of poverty.\\nFundraising is a great way to raise money, create awareness, and inspire \\nothers. Plus, it’s fun!\\nSearch for @UNDP on Twitter, Facebook and Instagram, and share the \\ncontent you love.\\nTo donate or learn more about fundraising, visit undp.org/takeactionThere are many ways to show your support and help us reach \\nthe Sustainable Development Goals by 2030. Here are a few :WHA T CAN  \\nI DO TO HELP?NOTESNOTES')]"
      ]
     },
     "execution_count": 67,
     "metadata": {},
     "output_type": "execute_result"
    }
   ],
   "source": [
    "document_ans_gen"
   ]
  },
  {
   "cell_type": "markdown",
   "metadata": {},
   "source": [
    "### **Define LLM**"
   ]
  },
  {
   "cell_type": "code",
   "execution_count": 68,
   "metadata": {},
   "outputs": [],
   "source": [
    "# Create an instance of ChatOpenAI for question generation\n",
    "llm_ques_gen_pipeline = ChatOpenAI(\n",
    "    model_name=\"gpt-3.5-turbo\",  # Specify the model to use for generating questions\n",
    "    temperature=0.3,              # Set the randomness of the output; lower values make the output more deterministic\n",
    ")"
   ]
  },
  {
   "cell_type": "markdown",
   "metadata": {},
   "source": [
    "### **Define Prompt Template**"
   ]
  },
  {
   "cell_type": "code",
   "execution_count": 69,
   "metadata": {},
   "outputs": [],
   "source": [
    "# Define a prompt template for generating questions based on coding materials\n",
    "prompt_template = '''You are an expert at creating questions based on coding materials and documentation. \n",
    "Your goal is to prepare a coder or programmer for their exam and coding interview by asking questions about the text below:\n",
    "\n",
    "------------------------------------------------------------------------------------------------\n",
    "{text}  \n",
    "------------------------------------------------------------------------------------------------\n",
    "\n",
    "Create questions that will prepare the coders or programmers for their exam, ensuring they do not lose any important information.\n",
    "Questions:\n",
    "'''"
   ]
  },
  {
   "cell_type": "code",
   "execution_count": 70,
   "metadata": {},
   "outputs": [],
   "source": [
    "# Create an instance of PromptTemplate for generating questions using the defined prompt_template\n",
    "PROMPT_QUESTION = PromptTemplate(\n",
    "    template=prompt_template,        # Use the previously defined prompt template\n",
    "    input_variables=[\"text\"],        # Specify the input variable that will be replaced in the template\n",
    ")"
   ]
  },
  {
   "cell_type": "code",
   "execution_count": 71,
   "metadata": {},
   "outputs": [],
   "source": [
    "# Define a template for refining practice questions based on coding materials and documentation\n",
    "refine_template = (\"\"\"\n",
    "You are an expert at creating practice questions based on coding material and documentation.\n",
    "Your goal is to help a coder or programmer prepare for a coding test.\n",
    "We have received some practice questions to a certain extent: {existing_answer}.  # Placeholder for existing questions\n",
    "We have the option to refine the existing questions or add new ones.  # Indicate that refinement or addition is possible\n",
    "(only if necessary) with some more context below.  # Clarify that additional context may be provided if needed\n",
    "------------\n",
    "{text}  # Placeholder for the additional context to refine the questions\n",
    "------------\n",
    "\n",
    "Given the new context, refine the original questions in English.  # Instruction to refine questions based on the provided context\n",
    "If the context is not helpful, please provide the original questions.  # Instruction to fallback on original questions if context is inadequate\n",
    "QUESTIONS:\n",
    "\"\"\"\n",
    ")"
   ]
  },
  {
   "cell_type": "code",
   "execution_count": 72,
   "metadata": {},
   "outputs": [],
   "source": [
    "# Create an instance of PromptTemplate for refining practice questions using the defined refine_template\n",
    "REFINE_PROMPT_QUESTION = PromptTemplate(\n",
    "    input_variables=[\"existing_answer\", \"text\"],  # Specify the input variables to be used in the template\n",
    "    template=refine_template,                       # Use the previously defined refine template for question refinement\n",
    ")"
   ]
  },
  {
   "cell_type": "code",
   "execution_count": 73,
   "metadata": {},
   "outputs": [],
   "source": [
    "# Load a summarization chain for generating questions and refining them\n",
    "ques_gen_chain = load_summarize_chain(\n",
    "    llm=llm_ques_gen_pipeline,            # Specify the language model pipeline for question generation\n",
    "    chain_type=\"refine\",                  # Set the type of chain to \"refine\" for improving existing questions\n",
    "    verbose=True,                         # Enable verbose output for detailed logging during execution\n",
    "    question_prompt=PROMPT_QUESTION,      # Use the defined prompt template for generating questions\n",
    "    refine_prompt=REFINE_PROMPT_QUESTION   # Use the defined prompt template for refining questions\n",
    ")"
   ]
  },
  {
   "cell_type": "markdown",
   "metadata": {},
   "source": [
    "### **Generate Questions**"
   ]
  },
  {
   "cell_type": "code",
   "execution_count": 75,
   "metadata": {},
   "outputs": [
    {
     "name": "stderr",
     "output_type": "stream",
     "text": [
      "C:\\Users\\user\\AppData\\Local\\Temp\\ipykernel_11956\\978170729.py:2: LangChainDeprecationWarning: The method `Chain.run` was deprecated in langchain 0.1.0 and will be removed in 1.0. Use :meth:`~invoke` instead.\n",
      "  ques = ques_gen_chain.run(document_ques_gen)\n"
     ]
    },
    {
     "name": "stdout",
     "output_type": "stream",
     "text": [
      "\n",
      "\n",
      "\u001b[1m> Entering new RefineDocumentsChain chain...\u001b[0m\n",
      "\n",
      "\n",
      "\u001b[1m> Entering new LLMChain chain...\u001b[0m\n",
      "Prompt after formatting:\n",
      "\u001b[32;1m\u001b[1;3mYou are an expert at creating questions based on coding materials and documentation. \n",
      "Your goal is to prepare a coder or programmer for their exam and coding interview by asking questions about the text below:\n",
      "\n",
      "------------------------------------------------------------------------------------------------\n",
      "IN THE YEAR 2015, LEADERS FROM 193 COUNTRIES OF THE WORLD \n",
      "CAME TOGETHER TO FACE THE FUTURE.\n",
      "And what they saw was daunting. Famines. Drought. Wars. Plagues. Poverty. \n",
      "Not just in some faraway place, but in their own cities and towns and villages.\n",
      "They knew things didn’t have to be this way. They knew we had enough  \n",
      "food to feed the world, but that it wasn’t getting shared. They knew there \n",
      "were medicines for HIV and other diseases, but they cost a lot. They knew  \n",
      "that earthquakes and floods were inevitable, but that the high death  \n",
      "tolls were not. \n",
      "They also knew that billions of people worldwide shared their hope for a \n",
      "better future.\n",
      "So leaders from these countries created a plan called the Sustainable \n",
      "Development Goals (SDGs). This set of 17 goals imagines a future just 15 years \n",
      "off that would be rid of poverty and hunger, and safe from the worst effects of \n",
      "climate change. It’s an ambitious plan. \n",
      "But there’s ample evidence that we can succeed. In the past 15 years, the \n",
      "international community cut extreme poverty in half. \n",
      "Now we can finish the job.\n",
      "The United Nations Development Programme (UNDP) is one of the leading \n",
      "organizations working to fulfil the SDGs by the year 2030. Present in nearly \n",
      "170 countries and territories, we help nations make the Goals a reality.  \n",
      "We also champion the Goals so that people everywhere know how to  \n",
      "do their part. \n",
      "UNDP is proud to continue as a leader in this global movement.\n",
      "Learn about the Sustainable Development Goals.  What’s your Goal? END EXTREME POVERTY IN ALL FORMS  \n",
      "BY 2030.\n",
      "Yes, it’s an ambitious goal—but we believe it can be done. In 2000, the \n",
      "world committed to halving the number of people living in extreme \n",
      "poverty by the year 2015 and we met this goal. However, more than \n",
      "800 million people around the world still live on less than $1.25 a day—\n",
      "that’s about the equivalent of the entire population of Europe living in \n",
      "extreme poverty. Now it’s time to build on what we learned and end \n",
      "poverty altogether. END HUNGER, ACHIEVE FOOD SECURITY \n",
      "AND IMPROVED NUTRITION AND PROMOTE \n",
      "SUSTAINABLE AGRICUL TURE\n",
      "In the past 20 years, hunger has dropped by almost half. Many \n",
      "countries that used to suffer from famine and hunger can now \n",
      "meet the nutritional needs of their most vulnerable people. It’s an \n",
      "incredible accomplishment. Now we can go further and end hunger \n",
      "and malnutrition once and for all. That means doing things such as \n",
      "promoting sustainable agriculture and supporting small farmers. It’s a tall \n",
      "order. But for the sake of the nearly 1 out of every 9 people on earth who \n",
      "go to bed hungry every night, we’ve got to try. Imagine a world where \n",
      "everyone has access to sufficient and nutritious food all year round. \n",
      "Together, we can make that a reality by 2030. ENSURE HEAL THY LIVES AND PROMOTE \n",
      "WELL-BEING FOR ALL AT ALL AGES\n",
      "We all know how important it is to be in good health. Our health affects \n",
      "everything from how much we enjoy life to what work we can perform. \n",
      "That’s why there’s a Goal to make sure everyone has health coverage \n",
      "and access to safe and effective medicines and vaccines. In the 25 \n",
      "years before the SDGs, we made big strides—preventable child deaths \n",
      "dropped by more than half, and maternal mortality went down by \n",
      "almost as much. And yet some other numbers remain tragically high, like \n",
      "the fact that 6 million children die every year before their fifth birthday, \n",
      "or that AIDS is the leading cause of death for adolescents in sub-Saharan \n",
      "Africa. We have the means to turn that around and make good health \n",
      "more than just a wish.ENSURE INCLUSIVE AND EQUITABLE QUALITY \n",
      "EDUCATION AND PROMOTE LIFELONG \n",
      "LEARNING OPPORTUNITIES FOR ALL  \n",
      "First, the bad news on education. Poverty, armed conflict and other \n",
      "emergencies keep many, many kids around the world out of school. In \n",
      "fact, kids from the poorest households are four times more likely to be \n",
      "out of school than those of the richest households. Now for some good \n",
      "news. Since 2000, there has been enormous progress on the goal to \n",
      "provide primary education to all children worldwide: the total enrolment \n",
      "rate in developing regions has reached 91%. By measures in any school, \n",
      "that’s a good grade. Now, let’s get an even better grade for all kids, \n",
      "and achieve the goal of universal primary and secondary education, \n",
      "affordable vocational training, access to higher education and more.We can celebrate the great progress the world has made in becoming \n",
      "more prosperous and fair. But there’s a shadow to the celebration. In \n",
      "just about every way, women and girls lag behind. There are still gross \n",
      "inequalities in work and wages, lots of unpaid “women’s work” such as \n",
      "child care and domestic work, and discrimination in public decision-\n",
      "making. But there are grounds for hope. More girls are in school now \n",
      "compared to in 2000. Most regions have reached gender parity in \n",
      "primary education. The percentage of women getting paid for their work \n",
      "is on the rise. The Sustainable Development Goals aim to build on these \n",
      "achievements to ensure that there is an end to discrimination against \n",
      "women and girls everywhere.ACHIEVE GENDER EQUALITY AND  \n",
      "EMPOWER ALL WOMEN AND GIRLS Everyone on earth should have access to safe and affordable drinking \n",
      "water. That’s the goal for 2030. While many people take clean drinking \n",
      "water and sanitation for granted, many others don’t. Water scarcity \n",
      "affects more than 40 percent of people around the world, and that \n",
      "number is projected to go even higher as a result of climate change. \n",
      "If we continue the path we’re on, by 2050 at least one in four people \n",
      "are likely to be affected by recurring water shortages. But we can take \n",
      "a new path—more international cooperation, protecting wetlands \n",
      "and rivers, sharing water-treatment technologies—that leads to \n",
      "accomplishing this Goal. ENSURE AVAILABILITY AND SUSTAINABLE \n",
      "MANAGEMENT OF WATER AND SANITATION \n",
      "FOR ALL  ENSURE ACCESS TO AFFORDABLE, RELIABLE, \n",
      "SUSTAINABLE AND MODERN ENERGY FOR \n",
      "ALL \n",
      "Between 1990 and 2010, the number of people with access to electricity \n",
      "increased by 1.7 billion. That’s progress to be proud of. And yet as the \n",
      "world’s population continues to rise, still more people will need cheap \n",
      "energy to light their homes and streets, use phones and computers, \n",
      "and do their everyday business. How we get that energy is at issue; fossil \n",
      "fuels and greenhouse gas emissions are making drastic changes in the \n",
      "climate, leading to big problems on every continent. Instead, we can \n",
      "become more energy-efficient and invest in clean energy sources such \n",
      "as solar and wind. That way we’ll meet electricity needs and protect the \n",
      "environment. How’s that for a balancing act?PROMOTE SUSTAINED, INCLUSIVE AND \n",
      "SUSTAINABLE ECONOMIC GROWTH, FULL \n",
      "AND PRODUCTIVE EMPLOYMENT AND \n",
      "DECENT WORK FOR ALL \n",
      "An important part of economic growth is that people have jobs that \n",
      "pay enough to support themselves and their families. The good news \n",
      "is that the middle class is growing worldwide—almost tripling in size \n",
      "in developing countries in the last 25 years, to more than a third of the \n",
      "population. But today, job growth is not keeping pace with the growing \n",
      "labour force. Things don’t have to be that way. We can promote policies \n",
      "that encourage entrepreneurship and job creation. We can eradicate \n",
      "forced labour, slavery and human trafficking. And in the end we can \n",
      "achieve the goal of decent work for all women and men by 2030.BUILD RESILIENT INFRASTRUCTURE, \n",
      "PROMOTE INCLUSIVE AND SUSTAINABLE \n",
      "INDUSTRIALIZATION AND FOSTER \n",
      "INNOVATION \n",
      "Technological progress helps us address big global challenges such as \n",
      "creating jobs and becoming more energy efficient. For example, the \n",
      "world is becoming ever more interconnected and prosperous thanks to \n",
      "the internet. The more connected we are, the more we can all benefit \n",
      "from the wisdom and contributions of people everywhere on earth.  And \n",
      "yet four billion people have no way of getting online, the vast majority \n",
      "of them in developing countries. The more we invest in innovation \n",
      "and infrastructure, the better off we’ll all be. Bridging the digital divide, \n",
      "promoting sustainable industries, and investing in scientific research and \n",
      "innovation are all important ways to facilitate sustainable development.REDUCE INEQUALITY WITHIN AND AMONG \n",
      "COUNTRIES  \n",
      "It’s an old story: the rich get richer, and the poor get poorer. The divide \n",
      "has never been starker. We can and must adopt policies that create \n",
      "opportunity for everyone, regardless of who they are or where they \n",
      "come from. Income inequality is a global problem that requires global \n",
      "solutions. That means improving the regulation of financial markets \n",
      "and institutions, sending development aid where it is most needed \n",
      "and helping people migrate safely so they can pursue opportunities. \n",
      "Together, we can now change the direction of the old story of inequality. MAKE CITIES AND HUMAN SETTLEMENTS \n",
      "INCLUSIVE, SAFE, RESILIENT AND \n",
      "SUSTAINABLE \n",
      "If you’re like most people, you live in a city. More than half the world’s \n",
      "population now lives in cities, and that figure will go to about two-thirds \n",
      "of humanity by the year 2050. Cities are getting bigger. In 1990 there \n",
      "were ten “mega-cities” with 10 million inhabitants or more. In 2014, there \n",
      "were 28 mega-cities, home to 453 million people. Incredible, huh? A lot \n",
      "of people love cities; they’re centers of culture and business and life. The \n",
      "thing is, they’re also often centers of extreme poverty. To make cities \n",
      "sustainable for all, we can create good, affordable public housing. We \n",
      "can upgrade slum settlements. We can invest in public transport, create \n",
      "green spaces, and get a broader range of people involved in urban \n",
      "planning decisions. That way, we can keep the things we love about \n",
      "cities, and change the things we don’t.ENSURE SUSTAINABLE CONSUMPTION AND \n",
      "PRODUCTION PATTERNS\n",
      "Some people use a lot of stuff, and some people use very little—in fact, \n",
      "a big share of the world population is consuming too little to meet even \n",
      "their basic needs. Instead, we can have a world where everybody gets \n",
      "what they need to survive and thrive. And we can consume in a way \n",
      "that preserves our natural resources so that our children can enjoy them, \n",
      "and their children and their children after that. The hard part is how to \n",
      "achieve that goal. We can manage our natural resources more efficiently \n",
      "and dispose of toxic waste better. Cut per capita food waste in half \n",
      "globally. Get businesses and consumers to reduce and recycle waste. \n",
      "And help countries that have typically not consumed a lot to move \n",
      "towards more responsible consumption patterns.TAKE URGENT ACTION TO COMBAT CLIMATE \n",
      "CHANGE AND ITS IMPACTS\n",
      "Every country in the world is seeing the drastic effects of climate \n",
      "change, some more than others. On average, the annual losses just \n",
      "from earthquakes, tsunamis, tropical cyclones and flooding count in the \n",
      "hundreds of billions of dollars. We can reduce the loss of life and property \n",
      "by helping more vulnerable regions—such as land-locked countries \n",
      "and island states—become more resilient. It is still possible, with the \n",
      "political will and technological measures, to limit the increase in global \n",
      "mean temperature to two degrees Celsius above pre-industrial levels—\n",
      "and thus avoid the worst effects of climate change. The Sustainable \n",
      "Development Goals lay out a way for countries to work together to meet \n",
      "this urgent challenge. CONSERVE AND SUSTAINABLY USE THE \n",
      "OCEANS, SEAS AND MARINE RESOURCES \n",
      "FOR SUSTAINABLE DEVELOPMENT\n",
      "The oceans make human life possible. Their temperature, their chemistry, \n",
      "their currents, their life forms. For one thing, more than 3 billion people \n",
      "depend on marine and coastal diversity for their livelihoods. But today \n",
      "we are seeing nearly a third of the world’s fish stocks overexploited. \n",
      "That’s not a sustainable way of life. Even people who live nowhere near \n",
      "the ocean can’t live without it. Oceans absorb about 30 percent of the \n",
      "carbon dioxide that humans produce; but we’re producing more carbon \n",
      "dioxide than ever before and that makes the oceans more acidic—26% \n",
      "more, since the start of the industrial revolution. Our trash doesn’t help \n",
      "either—13,000 pieces of plastic litter on every square kilometer of ocean. \n",
      "Sounds bad, right? Don’t despair! The Sustainable Development Goals \n",
      "indicate targets for managing and protecting life below water. PROTECT, RESTORE AND PROMOTE \n",
      "SUSTAINABLE USE OF TERRESTRIAL \n",
      "ECOSYSTEMS, SUSTAINABLY MANAGE \n",
      "FORESTS, COMBAT DESERTIFICATION, AND \n",
      "HAL T AND REVERSE LAND DEGRADATION \n",
      "AND HAL T BIODIVERSITY LOSS \n",
      "Humans and other animals rely on other forms of life on land for food, \n",
      "clean air, clean water, and as a means of combatting climate change. \n",
      "Plant life makes up 80% of the human diet. Forests, which cover 30% \n",
      "of the Earth’s surface, help keep the air and water clean and the Earth’s \n",
      "climate in balance. That’s not to mention they’re home to millions of \n",
      "animal species. But the land and life on it are in trouble. Arable land \n",
      "is disappearing 30 to 35 times faster than it has historically. Deserts \n",
      "are spreading. Animal breeds are going extinct. We can turn these \n",
      "trends around. Fortunately, the Sustainable Development Goals aim to \n",
      "conserve and restore the use of terrestrial ecosystems such as forests, \n",
      "wetlands, drylands and mountains by 2030. PROMOTE PEACEFUL AND INCLUSIVE \n",
      "SOCIETIES FOR SUSTAINABLE \n",
      "DEVELOPMENT, PROVIDE ACCESS TO \n",
      "JUSTICE FOR ALL AND BUILD EFFECTIVE, \n",
      "ACCOUNTABLE AND INCLUSIVE \n",
      "INSTITUTIONS AT ALL LEVELS \n",
      "How can a country develop—how can people eat and teach and learn \n",
      "and work and raise families—without peace? And how can a country \n",
      "have peace without justice, without human rights, without government \n",
      "based on the rule of law? Some parts of the world enjoy relative peace \n",
      "and justice, and may come to take it for granted. Other parts seem to \n",
      "be plagued by armed conflict, crime, torture and exploitation, all of \n",
      "which hinders their development. The goal of peace and justice is one \n",
      "for all countries to strive towards. The Sustainable Development Goals \n",
      "aim to reduce all forms of violence and propose that governments \n",
      "and communities find lasting solutions to conflict and insecurity. That \n",
      "means strengthening the rule of law, reducing the flow of illicit arms, \n",
      "and bringing developing countries more into the center of institutions \n",
      "of global governance.STRENGTHEN THE MEANS OF \n",
      "IMPLEMENTATION AND REVITALIZE THE \n",
      "GLOBAL PARTNERSHIP FOR SUSTAINABLE \n",
      "DEVELOPMENT \n",
      "The Sustainable Development Goals are pretty big to-do list, don’t you \n",
      "think? In fact, it’s so big, you may just want to throw your hands up in the \n",
      "air. “Forget it! Can’t be done! Why even try!” But we’ve got a lot going for \n",
      "us. The world is more interconnected today than ever before, thanks to \n",
      "the internet, travel and global institutions. There’s a growing consensus \n",
      "about the need to work together to stop climate change. And the \n",
      "Sustainable Development Goals are no small matter either. 193 countries \n",
      "agreed on these goals. Pretty incredible, isn’t it? 193 countries agreeing \n",
      "on anything? The final goal lays out a way for nations to work together to \n",
      "achieve all the other Goals. Go shopping  Make a donation  \n",
      "Start a fundraiser  \n",
      "Spread the word  Visit shop.undp.org for SDG merchandise, and show off the goals you’re \n",
      "most passionate about. Money doesn’t just make the world go around; it’s also the most direct \n",
      "way to reduce and eradicate all forms of poverty.\n",
      "Fundraising is a great way to raise money, create awareness, and inspire \n",
      "others. Plus, it’s fun!\n",
      "Search for @UNDP on Twitter, Facebook and Instagram, and share the \n",
      "content you love.\n",
      "To donate or learn more about fundraising, visit undp.org/takeactionThere are many ways to show your support and help us reach \n",
      "the Sustainable Development Goals by 2030. Here are a few :WHA T CAN  \n",
      "I DO TO HELP?NOTESNOTES  \n",
      "------------------------------------------------------------------------------------------------\n",
      "\n",
      "Create questions that will prepare the coders or programmers for their exam, ensuring they do not lose any important information.\n",
      "Questions:\n",
      "\u001b[0m\n",
      "\n",
      "\u001b[1m> Finished chain.\u001b[0m\n",
      "\n",
      "\u001b[1m> Finished chain.\u001b[0m\n",
      "1. What is the name of the plan created by leaders from 193 countries in 2015 to address global challenges such as poverty, hunger, and climate change?\n",
      "2. How many Sustainable Development Goals (SDGs) are outlined in the plan?\n",
      "3. What is the goal of the SDG related to ending extreme poverty by 2030?\n",
      "4. How has hunger decreased globally in the past 20 years, and what actions can be taken to further reduce hunger and malnutrition?\n",
      "5. What progress has been made in achieving gender equality and empowering women and girls, and what are the remaining challenges?\n",
      "6. Why is it important to ensure access to clean drinking water and sanitation for all by 2030?\n",
      "7. How has access to electricity improved globally between 1990 and 2010, and what are the challenges associated with meeting energy needs sustainably?\n",
      "8. What are some key strategies outlined in the SDGs to promote economic growth, full employment, and decent work for all?\n",
      "9. How can technological progress and innovation help address global challenges related to sustainable development?\n",
      "10. Why is it important to reduce inequality within and among countries, and what are some proposed solutions to address income inequality?\n"
     ]
    }
   ],
   "source": [
    "# Execute the question generation and refinement process on the list of documents\n",
    "ques = ques_gen_chain.run(document_ques_gen)\n",
    "\n",
    "# Print the generated questions\n",
    "print(ques)"
   ]
  },
  {
   "cell_type": "markdown",
   "metadata": {},
   "source": [
    "### **Load OpenAI model to Create Embeddings**"
   ]
  },
  {
   "cell_type": "code",
   "execution_count": 77,
   "metadata": {},
   "outputs": [],
   "source": [
    "embeddings = OpenAIEmbeddings()"
   ]
  },
  {
   "cell_type": "markdown",
   "metadata": {},
   "source": [
    "### **Set Up FAISS Vector Database**\n",
    "\n",
    "- Vectors will be stored in memory."
   ]
  },
  {
   "cell_type": "code",
   "execution_count": 79,
   "metadata": {},
   "outputs": [],
   "source": [
    "# Create a FAISS vector store from the list of document answers using specified embeddings\n",
    "vector_store = FAISS.from_documents(document_ans_gen, embeddings)"
   ]
  },
  {
   "cell_type": "markdown",
   "metadata": {},
   "source": [
    "### **Set Up OpenAI Model for Generating Answer**"
   ]
  },
  {
   "cell_type": "code",
   "execution_count": 80,
   "metadata": {},
   "outputs": [],
   "source": [
    "# Create an instance of ChatOpenAI for generating answers with specific parameters\n",
    "llm_answer_gen = ChatOpenAI(\n",
    "    temperature=0.1,                # Set the randomness of the output; lower values make the output more deterministic\n",
    "    model=\"gpt-3.5-turbo\"           # Specify the model to use for generating answers\n",
    ")"
   ]
  },
  {
   "cell_type": "code",
   "execution_count": 82,
   "metadata": {},
   "outputs": [
    {
     "data": {
      "text/plain": [
       "['1. What is the name of the plan created by leaders from 193 countries in 2015 to address global challenges such as poverty, hunger, and climate change?',\n",
       " '2. How many Sustainable Development Goals (SDGs) are outlined in the plan?',\n",
       " '3. What is the goal of the SDG related to ending extreme poverty by 2030?',\n",
       " '4. How has hunger decreased globally in the past 20 years, and what actions can be taken to further reduce hunger and malnutrition?',\n",
       " '5. What progress has been made in achieving gender equality and empowering women and girls, and what are the remaining challenges?',\n",
       " '6. Why is it important to ensure access to clean drinking water and sanitation for all by 2030?',\n",
       " '7. How has access to electricity improved globally between 1990 and 2010, and what are the challenges associated with meeting energy needs sustainably?',\n",
       " '8. What are some key strategies outlined in the SDGs to promote economic growth, full employment, and decent work for all?',\n",
       " '9. How can technological progress and innovation help address global challenges related to sustainable development?',\n",
       " '10. Why is it important to reduce inequality within and among countries, and what are some proposed solutions to address income inequality?']"
      ]
     },
     "execution_count": 82,
     "metadata": {},
     "output_type": "execute_result"
    }
   ],
   "source": [
    "question_list = ques.split(\"\\n\") # Questions are separated by new lines\n",
    "question_list"
   ]
  },
  {
   "cell_type": "markdown",
   "metadata": {},
   "source": [
    "### **Define Retrival Q/A Chian**"
   ]
  },
  {
   "cell_type": "code",
   "execution_count": 84,
   "metadata": {},
   "outputs": [],
   "source": [
    "# Create a RetrievalQA chain for generating answers using a specified language model and retrieval method\n",
    "answer_generation_chain = RetrievalQA.from_chain_type(\n",
    "    llm=llm_answer_gen,                       # Specify the language model to use for generating answers\n",
    "    chain_type=\"stuff\",                       # Set the type of chain to \"stuff\" for simple retrieval\n",
    "    retriever=vector_store.as_retriever()     # Use the FAISS vector store as the retriever for fetching relevant documents\n",
    ")"
   ]
  },
  {
   "cell_type": "markdown",
   "metadata": {},
   "source": [
    "### **Answer each question from the list and save the results to a file**"
   ]
  },
  {
   "cell_type": "code",
   "execution_count": 85,
   "metadata": {},
   "outputs": [
    {
     "name": "stdout",
     "output_type": "stream",
     "text": [
      "Question:  1. What is the name of the plan created by leaders from 193 countries in 2015 to address global challenges such as poverty, hunger, and climate change?\n",
      "Answer:  The plan created by leaders from 193 countries in 2015 to address global challenges such as poverty, hunger, and climate change is called the Sustainable Development Goals (SDGs).\n",
      "--------------------------------------------------\\n\\n\n",
      "Question:  2. How many Sustainable Development Goals (SDGs) are outlined in the plan?\n",
      "Answer:  There are 17 Sustainable Development Goals (SDGs) outlined in the plan.\n",
      "--------------------------------------------------\\n\\n\n",
      "Question:  3. What is the goal of the SDG related to ending extreme poverty by 2030?\n",
      "Answer:  The goal related to ending extreme poverty by 2030 is to \"End extreme poverty in all forms by 2030.\"\n",
      "--------------------------------------------------\\n\\n\n",
      "Question:  4. How has hunger decreased globally in the past 20 years, and what actions can be taken to further reduce hunger and malnutrition?\n",
      "Answer:  Hunger has decreased globally by almost half in the past 20 years. Many countries that previously suffered from famine and hunger can now meet the nutritional needs of their most vulnerable populations. To further reduce hunger and malnutrition, actions such as promoting sustainable agriculture, supporting small farmers, and ensuring access to nutritious food year-round are essential.\n",
      "--------------------------------------------------\\n\\n\n",
      "Question:  5. What progress has been made in achieving gender equality and empowering women and girls, and what are the remaining challenges?\n",
      "Answer:  Progress has been made in achieving gender equality and empowering women and girls. More girls are in school compared to 2000, most regions have reached gender parity in primary education, and the percentage of women getting paid for their work is on the rise. However, there are still challenges such as gross inequalities in work and wages, unpaid \"women's work\" like child care and domestic work, and discrimination in public decision-making. The Sustainable Development Goals aim to build on these achievements to ensure an end to discrimination against women and girls everywhere.\n",
      "--------------------------------------------------\\n\\n\n",
      "Question:  6. Why is it important to ensure access to clean drinking water and sanitation for all by 2030?\n",
      "Answer:  It is important to ensure access to clean drinking water and sanitation for all by 2030 because many people around the world do not have access to safe and affordable drinking water. Water scarcity affects more than 40 percent of the global population, and this number is projected to increase due to climate change. Without access to clean water and sanitation, people's health is at risk, and water-related diseases can spread easily. By ensuring access to clean drinking water and sanitation, we can improve public health, reduce water-related diseases, and promote overall well-being for all individuals.\n",
      "--------------------------------------------------\\n\\n\n",
      "Question:  7. How has access to electricity improved globally between 1990 and 2010, and what are the challenges associated with meeting energy needs sustainably?\n",
      "Answer:  Access to electricity improved globally between 1990 and 2010, with the number of people with access to electricity increasing by 1.7 billion during that time. This progress is something to be proud of. However, as the world's population continues to rise, more people will need cheap energy to meet their daily needs. The challenge lies in meeting these energy needs sustainably. Fossil fuels and greenhouse gas emissions are causing drastic changes in the climate, leading to significant problems worldwide. To address this challenge, there is a need to become more energy-efficient and invest in clean energy sources such as solar and wind power to meet electricity needs while also protecting the environment.\n",
      "--------------------------------------------------\\n\\n\n",
      "Question:  8. What are some key strategies outlined in the SDGs to promote economic growth, full employment, and decent work for all?\n",
      "Answer:  Some key strategies outlined in the Sustainable Development Goals (SDGs) to promote economic growth, full employment, and decent work for all include:\n",
      "\n",
      "1. Encouraging entrepreneurship and job creation.\n",
      "2. Eradicating forced labor, slavery, and human trafficking.\n",
      "3. Promoting policies that support decent work for all women and men.\n",
      "4. Ensuring that people have jobs that pay enough to support themselves and their families.\n",
      "\n",
      "These strategies aim to create a more inclusive and sustainable economy that provides opportunities for everyone.\n",
      "--------------------------------------------------\\n\\n\n",
      "Question:  9. How can technological progress and innovation help address global challenges related to sustainable development?\n",
      "Answer:  Technological progress and innovation can help address global challenges related to sustainable development by bridging the digital divide, promoting sustainable industries, and investing in scientific research. This can lead to better infrastructure, improved access to information and resources, and more efficient solutions to environmental and social issues.\n",
      "--------------------------------------------------\\n\\n\n",
      "Question:  10. Why is it important to reduce inequality within and among countries, and what are some proposed solutions to address income inequality?\n",
      "Answer:  It is important to reduce inequality within and among countries because it can lead to social unrest, hinder economic growth, and limit opportunities for individuals to reach their full potential. Some proposed solutions to address income inequality include improving the regulation of financial markets, sending development aid to where it is most needed, and promoting policies that create equal opportunities for everyone regardless of their background. Additionally, helping people migrate safely to pursue opportunities and adopting policies that create inclusive economic growth can also help reduce income inequality.\n",
      "--------------------------------------------------\\n\\n\n"
     ]
    }
   ],
   "source": [
    "for question in question_list:\n",
    "    print(\"Question: \", question)  # Print the current question to the console\n",
    "    answer = answer_generation_chain.run(question)  # Generate an answer for the current question\n",
    "    print(\"Answer: \", answer)  # Print the generated answer to the console\n",
    "    print(\"--------------------------------------------------\\\\n\\\\n\")  # Print a separator for readability\n",
    "\n",
    "    # Save the question and answer to a file\n",
    "    with open(\"answers.txt\", \"a\") as f:  # Open the file in append mode\n",
    "        f.write(\"Question: \" + question + \"\\\\n\")  # Write the question to the file\n",
    "        f.write(\"Answer: \" + answer + \"\\\\n\")  # Write the answer to the file\n",
    "        f.write(\"--------------------------------------------------\\\\n\\\\n\")  # Write a separator in the file"
   ]
  },
  {
   "cell_type": "markdown",
   "metadata": {},
   "source": [
    "----\n",
    "\n",
    "**The End**"
   ]
  },
  {
   "cell_type": "markdown",
   "metadata": {},
   "source": [
    "-------"
   ]
  },
  {
   "cell_type": "markdown",
   "metadata": {},
   "source": []
  }
 ],
 "metadata": {
  "kernelspec": {
   "display_name": "Python 3",
   "language": "python",
   "name": "python3"
  },
  "language_info": {
   "codemirror_mode": {
    "name": "ipython",
    "version": 3
   },
   "file_extension": ".py",
   "mimetype": "text/x-python",
   "name": "python",
   "nbconvert_exporter": "python",
   "pygments_lexer": "ipython3",
   "version": "3.10.15"
  }
 },
 "nbformat": 4,
 "nbformat_minor": 2
}
