{
 "cells": [
  {
   "cell_type": "markdown",
   "metadata": {},
   "source": [
    "-----\n",
    "\n",
    "# **`Function Calling Using OpenAI API Key`**\n",
    "\n",
    "\n",
    "-----"
   ]
  },
  {
   "cell_type": "markdown",
   "metadata": {},
   "source": [
    "### **1. Import Required Libraries**"
   ]
  },
  {
   "cell_type": "code",
   "execution_count": 67,
   "metadata": {},
   "outputs": [],
   "source": [
    "import os\n",
    "import openai\n",
    "import requests\n",
    "import json\n",
    "from dotenv import load_dotenv"
   ]
  },
  {
   "cell_type": "markdown",
   "metadata": {},
   "source": [
    "### **2. Set Up OpenAI API Key**"
   ]
  },
  {
   "cell_type": "code",
   "execution_count": 68,
   "metadata": {},
   "outputs": [],
   "source": [
    "load_dotenv()\n",
    "api_key = os.getenv(\"OPENAI_API_KEY\")"
   ]
  },
  {
   "cell_type": "markdown",
   "metadata": {},
   "source": [
    "#### **Using Rapid API For Weather Updates**"
   ]
  },
  {
   "cell_type": "code",
   "execution_count": 69,
   "metadata": {},
   "outputs": [],
   "source": [
    "import requests\n",
    "import http.client\n",
    "\n",
    "def get_current_weather(location):\n",
    "    \"\"\"Get the current weather in a given location\"\"\"\n",
    "\n",
    "    url = \"https://ai-weather-by-meteosource.p.rapidapi.com/find_places\"\n",
    "\n",
    "    querystring = {\"text\":location}\n",
    "\n",
    "    headers = {\n",
    "    'x-rapidapi-key': \"Enter your creedentials\",\n",
    "    'x-rapidapi-host': \"ai-weather-by-meteosource.p.rapidapi.com\"\n",
    "    }\n",
    "\n",
    "    response = requests.get(url, headers=headers, params=querystring)\n",
    "\n",
    "    print(response.json())\n",
    "  \n",
    "    return response.json()"
   ]
  },
  {
   "cell_type": "code",
   "execution_count": 70,
   "metadata": {},
   "outputs": [
    {
     "name": "stdout",
     "output_type": "stream",
     "text": [
      "[{'name': 'Lahore', 'place_id': 'lahore', 'adm_area1': 'Punjab', 'adm_area2': 'Lahore', 'country': 'Islamic Republic of Pakistan', 'lat': '31.558N', 'lon': '74.35071E', 'timezone': 'Asia/Karachi', 'type': 'settlement'}, {'name': 'Laoré de Falkoumré', 'place_id': 'laore-de-falkoumre-2229614', 'adm_area1': 'Adamaoua Region', 'adm_area2': None, 'country': 'Republic of Cameroon', 'lat': '7.31667N', 'lon': '12.6E', 'timezone': 'Africa/Douala', 'type': 'settlement'}, {'name': 'Lahore', 'place_id': 'lahore-4768156', 'adm_area1': 'Virginia', 'adm_area2': 'Orange', 'country': 'United States of America', 'lat': '38.19875N', 'lon': '77.96944W', 'timezone': 'America/New_York', 'type': 'settlement'}, {'name': 'Kili Lahor', 'place_id': 'kili-lahor-1172453', 'adm_area1': 'Balochistan', 'adm_area2': 'Loralai', 'country': 'Islamic Republic of Pakistan', 'lat': '30.39561N', 'lon': '68.7627E', 'timezone': 'Asia/Karachi', 'type': 'settlement'}, {'name': 'Lahore', 'place_id': 'lahore-district-1172449', 'adm_area1': 'Punjab', 'adm_area2': 'Lahore', 'country': 'Islamic Republic of Pakistan', 'lat': '31.48627N', 'lon': '74.3979E', 'timezone': 'Asia/Karachi', 'type': 'administrative_area'}, {'name': 'Lahore International Airport', 'place_id': 'allama-iqbal-international-airport', 'adm_area1': 'Punjab', 'adm_area2': 'Lahore', 'country': 'Islamic Republic of Pakistan', 'lat': '31.52156N', 'lon': '74.40359E', 'timezone': 'Asia/Karachi', 'type': 'airport'}, {'name': 'Kahna Nau', 'place_id': 'kahna-nau', 'adm_area1': 'Punjab', 'adm_area2': 'Lahore', 'country': 'Islamic Republic of Pakistan', 'lat': '31.36709N', 'lon': '74.36899E', 'timezone': 'Asia/Karachi', 'type': 'settlement'}, {'name': 'Tur', 'place_id': 'tur-1163061', 'adm_area1': 'Punjab', 'adm_area2': 'Lahore', 'country': 'Islamic Republic of Pakistan', 'lat': '31.36191N', 'lon': '74.30688E', 'timezone': 'Asia/Karachi', 'type': 'settlement'}, {'name': 'Tera', 'place_id': 'tera-1163689', 'adm_area1': 'Punjab', 'adm_area2': 'Lahore', 'country': 'Islamic Republic of Pakistan', 'lat': '31.55733N', 'lon': '74.44927E', 'timezone': 'Asia/Karachi', 'type': 'settlement'}, {'name': 'Padde', 'place_id': 'padde-1168659', 'adm_area1': 'Punjab', 'adm_area2': 'Lahore', 'country': 'Islamic Republic of Pakistan', 'lat': '31.54331N', 'lon': '74.57081E', 'timezone': 'Asia/Karachi', 'type': 'settlement'}]\n"
     ]
    },
    {
     "data": {
      "text/plain": [
       "[{'name': 'Lahore',\n",
       "  'place_id': 'lahore',\n",
       "  'adm_area1': 'Punjab',\n",
       "  'adm_area2': 'Lahore',\n",
       "  'country': 'Islamic Republic of Pakistan',\n",
       "  'lat': '31.558N',\n",
       "  'lon': '74.35071E',\n",
       "  'timezone': 'Asia/Karachi',\n",
       "  'type': 'settlement'},\n",
       " {'name': 'Laoré de Falkoumré',\n",
       "  'place_id': 'laore-de-falkoumre-2229614',\n",
       "  'adm_area1': 'Adamaoua Region',\n",
       "  'adm_area2': None,\n",
       "  'country': 'Republic of Cameroon',\n",
       "  'lat': '7.31667N',\n",
       "  'lon': '12.6E',\n",
       "  'timezone': 'Africa/Douala',\n",
       "  'type': 'settlement'},\n",
       " {'name': 'Lahore',\n",
       "  'place_id': 'lahore-4768156',\n",
       "  'adm_area1': 'Virginia',\n",
       "  'adm_area2': 'Orange',\n",
       "  'country': 'United States of America',\n",
       "  'lat': '38.19875N',\n",
       "  'lon': '77.96944W',\n",
       "  'timezone': 'America/New_York',\n",
       "  'type': 'settlement'},\n",
       " {'name': 'Kili Lahor',\n",
       "  'place_id': 'kili-lahor-1172453',\n",
       "  'adm_area1': 'Balochistan',\n",
       "  'adm_area2': 'Loralai',\n",
       "  'country': 'Islamic Republic of Pakistan',\n",
       "  'lat': '30.39561N',\n",
       "  'lon': '68.7627E',\n",
       "  'timezone': 'Asia/Karachi',\n",
       "  'type': 'settlement'},\n",
       " {'name': 'Lahore',\n",
       "  'place_id': 'lahore-district-1172449',\n",
       "  'adm_area1': 'Punjab',\n",
       "  'adm_area2': 'Lahore',\n",
       "  'country': 'Islamic Republic of Pakistan',\n",
       "  'lat': '31.48627N',\n",
       "  'lon': '74.3979E',\n",
       "  'timezone': 'Asia/Karachi',\n",
       "  'type': 'administrative_area'},\n",
       " {'name': 'Lahore International Airport',\n",
       "  'place_id': 'allama-iqbal-international-airport',\n",
       "  'adm_area1': 'Punjab',\n",
       "  'adm_area2': 'Lahore',\n",
       "  'country': 'Islamic Republic of Pakistan',\n",
       "  'lat': '31.52156N',\n",
       "  'lon': '74.40359E',\n",
       "  'timezone': 'Asia/Karachi',\n",
       "  'type': 'airport'},\n",
       " {'name': 'Kahna Nau',\n",
       "  'place_id': 'kahna-nau',\n",
       "  'adm_area1': 'Punjab',\n",
       "  'adm_area2': 'Lahore',\n",
       "  'country': 'Islamic Republic of Pakistan',\n",
       "  'lat': '31.36709N',\n",
       "  'lon': '74.36899E',\n",
       "  'timezone': 'Asia/Karachi',\n",
       "  'type': 'settlement'},\n",
       " {'name': 'Tur',\n",
       "  'place_id': 'tur-1163061',\n",
       "  'adm_area1': 'Punjab',\n",
       "  'adm_area2': 'Lahore',\n",
       "  'country': 'Islamic Republic of Pakistan',\n",
       "  'lat': '31.36191N',\n",
       "  'lon': '74.30688E',\n",
       "  'timezone': 'Asia/Karachi',\n",
       "  'type': 'settlement'},\n",
       " {'name': 'Tera',\n",
       "  'place_id': 'tera-1163689',\n",
       "  'adm_area1': 'Punjab',\n",
       "  'adm_area2': 'Lahore',\n",
       "  'country': 'Islamic Republic of Pakistan',\n",
       "  'lat': '31.55733N',\n",
       "  'lon': '74.44927E',\n",
       "  'timezone': 'Asia/Karachi',\n",
       "  'type': 'settlement'},\n",
       " {'name': 'Padde',\n",
       "  'place_id': 'padde-1168659',\n",
       "  'adm_area1': 'Punjab',\n",
       "  'adm_area2': 'Lahore',\n",
       "  'country': 'Islamic Republic of Pakistan',\n",
       "  'lat': '31.54331N',\n",
       "  'lon': '74.57081E',\n",
       "  'timezone': 'Asia/Karachi',\n",
       "  'type': 'settlement'}]"
      ]
     },
     "execution_count": 70,
     "metadata": {},
     "output_type": "execute_result"
    }
   ],
   "source": [
    "response = get_current_weather(\"Lahore\")\n",
    "response "
   ]
  },
  {
   "cell_type": "markdown",
   "metadata": {},
   "source": [
    "#### **Define JSON Function**"
   ]
  },
  {
   "cell_type": "code",
   "execution_count": 71,
   "metadata": {},
   "outputs": [],
   "source": [
    "functions = [\n",
    "        {\n",
    "            \"name\": \"get_current_weather\",\n",
    "            \"description\": \"Get the current weather in a given location\",\n",
    "            \"parameters\": {\n",
    "                \"type\": \"object\",\n",
    "                \"properties\": {\n",
    "                    \"location\": {\n",
    "                        \"type\": \"string\",\n",
    "                        \"description\": \"The city and state, e.g. San Francisco, CA\",\n",
    "                    },\n",
    "                    \n",
    "                },\n",
    "                \"required\": [\"location\"],\n",
    "            },\n",
    "        }\n",
    "    ]"
   ]
  },
  {
   "cell_type": "markdown",
   "metadata": {},
   "source": [
    "### **3. Set up OpenAI ChatCompleation Function**"
   ]
  },
  {
   "cell_type": "code",
   "execution_count": 72,
   "metadata": {},
   "outputs": [],
   "source": [
    "from openai import OpenAI\n",
    "client = OpenAI()\n",
    "\n",
    "user_message=\"Hi There\"\n",
    "messages=[]\n",
    "messages.append({\"role\": \"user\", \"content\":user_message})\n",
    "\n",
    "completion = client.chat.completions.create(\n",
    "    model=\"gpt-4o-mini\",\n",
    "    messages= messages,\n",
    ")"
   ]
  },
  {
   "cell_type": "code",
   "execution_count": 73,
   "metadata": {},
   "outputs": [],
   "source": [
    "# now add functionlaity of function calling\n",
    "\n",
    "user_message=\"Hi There, What's Temprature of Islamabad,Pakistan\"\n",
    "messages.append({\"role\": \"user\", \"content\":user_message})\n",
    "\n",
    "completion = client.chat.completions.create(\n",
    "    model=\"gpt-4o-mini\",\n",
    "    messages= messages,\n",
    "    functions=functions,\n",
    ")"
   ]
  },
  {
   "cell_type": "code",
   "execution_count": 74,
   "metadata": {},
   "outputs": [
    {
     "name": "stdout",
     "output_type": "stream",
     "text": [
      "ChatCompletionMessage(content=None, refusal=None, role='assistant', function_call=FunctionCall(arguments='{\"location\":\"Islamabad, Pakistan\"}', name='get_current_weather'), tool_calls=None)\n"
     ]
    }
   ],
   "source": [
    "print(completion.choices[0].message)"
   ]
  },
  {
   "cell_type": "code",
   "execution_count": 75,
   "metadata": {},
   "outputs": [
    {
     "data": {
      "text/plain": [
       "[{'role': 'user', 'content': 'Hi There'},\n",
       " {'role': 'user',\n",
       "  'content': \"Hi There, What's Temprature of Islamabad,Pakistan\"}]"
      ]
     },
     "execution_count": 75,
     "metadata": {},
     "output_type": "execute_result"
    }
   ],
   "source": [
    "messages # this shows 2 prompts has been added"
   ]
  },
  {
   "cell_type": "code",
   "execution_count": 76,
   "metadata": {},
   "outputs": [],
   "source": [
    "response=completion.choices[0].message"
   ]
  },
  {
   "cell_type": "code",
   "execution_count": 77,
   "metadata": {},
   "outputs": [
    {
     "name": "stdout",
     "output_type": "stream",
     "text": [
      "get_current_weather\n"
     ]
    }
   ],
   "source": [
    "# Setup function name\n",
    "\n",
    "function_name=response.function_call.name\n",
    "print(function_name)"
   ]
  },
  {
   "cell_type": "code",
   "execution_count": 78,
   "metadata": {},
   "outputs": [
    {
     "name": "stdout",
     "output_type": "stream",
     "text": [
      "Islamabad, Pakistan\n"
     ]
    }
   ],
   "source": [
    "# import json\n",
    "\n",
    "# # Simulated response object\n",
    "# response = {\n",
    "#     'function_call': {\n",
    "#         'arguments': '{\"location\":\"Lahore\"}'\n",
    "#     }\n",
    "# }\n",
    "# # Parse the JSON string in arguments\n",
    "# arguments = json.loads(response['function_call']['arguments'])\n",
    "\n",
    "# # Access the location\n",
    "# location = arguments['location']\n",
    "# print(location)\n",
    "\n",
    "# Parse the function call arguments\n",
    "arguments = json.loads(response.function_call.arguments)\n",
    "location = arguments['location']\n",
    "print(location)\n",
    "\n",
    "# Append the assistant's function call to the conversation\n",
    "messages.append({\n",
    "    \"role\": \"assistant\",\n",
    "    \"content\": None,\n",
    "    \"function_call\": {\n",
    "        \"name\": function_name,\n",
    "        \"arguments\": json.dumps(arguments),\n",
    "    }\n",
    "})"
   ]
  },
  {
   "cell_type": "markdown",
   "metadata": {},
   "source": [
    "### **4. Send the info on the function call and function response to GPT**"
   ]
  },
  {
   "cell_type": "code",
   "execution_count": 79,
   "metadata": {},
   "outputs": [],
   "source": [
    "messages.append(response)  # extend conversation with assistant's reply\n",
    "messages.append(\n",
    "    {\n",
    "        \"role\": \"function\",\n",
    "        \"name\": function_name,\n",
    "        \"content\": location,\n",
    "    }\n",
    ")"
   ]
  },
  {
   "cell_type": "code",
   "execution_count": 80,
   "metadata": {},
   "outputs": [],
   "source": [
    "second_response = client.chat.completions.create(\n",
    "    model=\"gpt-4o-mini\",\n",
    "    messages= messages,\n",
    "    functions=functions,\n",
    ") "
   ]
  },
  {
   "cell_type": "code",
   "execution_count": 81,
   "metadata": {},
   "outputs": [
    {
     "name": "stdout",
     "output_type": "stream",
     "text": [
      "I wasn't able to retrieve the current temperature for Islamabad, Pakistan. However, you can check a reliable weather website or app for the latest updates. If you have any other questions, feel free to ask!\n"
     ]
    }
   ],
   "source": [
    "# Process the second response\n",
    "print(second_response.choices[0].message.content)"
   ]
  },
  {
   "cell_type": "code",
   "execution_count": null,
   "metadata": {},
   "outputs": [],
   "source": []
  }
 ],
 "metadata": {
  "kernelspec": {
   "display_name": "Python 3",
   "language": "python",
   "name": "python3"
  },
  "language_info": {
   "codemirror_mode": {
    "name": "ipython",
    "version": 3
   },
   "file_extension": ".py",
   "mimetype": "text/x-python",
   "name": "python",
   "nbconvert_exporter": "python",
   "pygments_lexer": "ipython3",
   "version": "3.11.10"
  }
 },
 "nbformat": 4,
 "nbformat_minor": 2
}
