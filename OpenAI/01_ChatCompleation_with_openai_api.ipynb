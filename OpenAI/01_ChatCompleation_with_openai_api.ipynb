{
 "cells": [
  {
   "cell_type": "markdown",
   "metadata": {},
   "source": [
    "-----\n",
    "\n",
    "# **`Experimentation with OpenAi API`**\n",
    "\n",
    "- In this notebook we will explore OpenAI API key's Functionalities.\n",
    "\n",
    "----"
   ]
  },
  {
   "cell_type": "markdown",
   "metadata": {},
   "source": [
    "### **1. Import Required Libraries**"
   ]
  },
  {
   "cell_type": "code",
   "execution_count": 34,
   "metadata": {},
   "outputs": [],
   "source": [
    "import os\n",
    "import openai\n",
    "from dotenv import load_dotenv"
   ]
  },
  {
   "cell_type": "markdown",
   "metadata": {},
   "source": [
    "#### **Let's Check OpenAI Library Function**"
   ]
  },
  {
   "cell_type": "code",
   "execution_count": 35,
   "metadata": {},
   "outputs": [
    {
     "name": "stdout",
     "output_type": "stream",
     "text": [
      "Name: openai\n",
      "Version: 1.51.2\n",
      "Summary: The official Python library for the openai API\n",
      "Home-page: https://github.com/openai/openai-python\n",
      "Author: \n",
      "Author-email: OpenAI <support@openai.com>\n",
      "License: \n",
      "Location: e:\\Practice python\\Generative AI Materials\\OpenAI\\.venv\\Lib\\site-packages\n",
      "Requires: anyio, distro, httpx, jiter, pydantic, sniffio, tqdm, typing-extensions\n",
      "Required-by: \n"
     ]
    }
   ],
   "source": [
    "!pip show openai"
   ]
  },
  {
   "cell_type": "markdown",
   "metadata": {},
   "source": [
    "#### **Let's Check Models that can be Accessed With OpenAI API Key**"
   ]
  },
  {
   "cell_type": "code",
   "execution_count": 36,
   "metadata": {},
   "outputs": [
    {
     "data": {
      "text/html": [
       "<div>\n",
       "<style scoped>\n",
       "    .dataframe tbody tr th:only-of-type {\n",
       "        vertical-align: middle;\n",
       "    }\n",
       "\n",
       "    .dataframe tbody tr th {\n",
       "        vertical-align: top;\n",
       "    }\n",
       "\n",
       "    .dataframe thead th {\n",
       "        text-align: right;\n",
       "    }\n",
       "</style>\n",
       "<table border=\"1\" class=\"dataframe\">\n",
       "  <thead>\n",
       "    <tr style=\"text-align: right;\">\n",
       "      <th></th>\n",
       "      <th>id</th>\n",
       "      <th>created</th>\n",
       "      <th>object</th>\n",
       "      <th>owned_by</th>\n",
       "    </tr>\n",
       "  </thead>\n",
       "  <tbody>\n",
       "    <tr>\n",
       "      <th>0</th>\n",
       "      <td>tts-1</td>\n",
       "      <td>1681940951</td>\n",
       "      <td>model</td>\n",
       "      <td>openai-internal</td>\n",
       "    </tr>\n",
       "    <tr>\n",
       "      <th>1</th>\n",
       "      <td>tts-1-1106</td>\n",
       "      <td>1699053241</td>\n",
       "      <td>model</td>\n",
       "      <td>system</td>\n",
       "    </tr>\n",
       "    <tr>\n",
       "      <th>2</th>\n",
       "      <td>chatgpt-4o-latest</td>\n",
       "      <td>1723515131</td>\n",
       "      <td>model</td>\n",
       "      <td>system</td>\n",
       "    </tr>\n",
       "    <tr>\n",
       "      <th>3</th>\n",
       "      <td>dall-e-2</td>\n",
       "      <td>1698798177</td>\n",
       "      <td>model</td>\n",
       "      <td>system</td>\n",
       "    </tr>\n",
       "    <tr>\n",
       "      <th>4</th>\n",
       "      <td>gpt-4o-2024-08-06</td>\n",
       "      <td>1722814719</td>\n",
       "      <td>model</td>\n",
       "      <td>system</td>\n",
       "    </tr>\n",
       "    <tr>\n",
       "      <th>5</th>\n",
       "      <td>gpt-4-turbo-preview</td>\n",
       "      <td>1706037777</td>\n",
       "      <td>model</td>\n",
       "      <td>system</td>\n",
       "    </tr>\n",
       "    <tr>\n",
       "      <th>6</th>\n",
       "      <td>gpt-4o</td>\n",
       "      <td>1715367049</td>\n",
       "      <td>model</td>\n",
       "      <td>system</td>\n",
       "    </tr>\n",
       "    <tr>\n",
       "      <th>7</th>\n",
       "      <td>gpt-3.5-turbo-instruct</td>\n",
       "      <td>1692901427</td>\n",
       "      <td>model</td>\n",
       "      <td>system</td>\n",
       "    </tr>\n",
       "    <tr>\n",
       "      <th>8</th>\n",
       "      <td>gpt-4-0125-preview</td>\n",
       "      <td>1706037612</td>\n",
       "      <td>model</td>\n",
       "      <td>system</td>\n",
       "    </tr>\n",
       "    <tr>\n",
       "      <th>9</th>\n",
       "      <td>gpt-3.5-turbo-0125</td>\n",
       "      <td>1706048358</td>\n",
       "      <td>model</td>\n",
       "      <td>system</td>\n",
       "    </tr>\n",
       "    <tr>\n",
       "      <th>10</th>\n",
       "      <td>gpt-3.5-turbo</td>\n",
       "      <td>1677610602</td>\n",
       "      <td>model</td>\n",
       "      <td>openai</td>\n",
       "    </tr>\n",
       "    <tr>\n",
       "      <th>11</th>\n",
       "      <td>babbage-002</td>\n",
       "      <td>1692634615</td>\n",
       "      <td>model</td>\n",
       "      <td>system</td>\n",
       "    </tr>\n",
       "    <tr>\n",
       "      <th>12</th>\n",
       "      <td>davinci-002</td>\n",
       "      <td>1692634301</td>\n",
       "      <td>model</td>\n",
       "      <td>system</td>\n",
       "    </tr>\n",
       "    <tr>\n",
       "      <th>13</th>\n",
       "      <td>dall-e-3</td>\n",
       "      <td>1698785189</td>\n",
       "      <td>model</td>\n",
       "      <td>system</td>\n",
       "    </tr>\n",
       "    <tr>\n",
       "      <th>14</th>\n",
       "      <td>gpt-4-turbo-2024-04-09</td>\n",
       "      <td>1712601677</td>\n",
       "      <td>model</td>\n",
       "      <td>system</td>\n",
       "    </tr>\n",
       "    <tr>\n",
       "      <th>15</th>\n",
       "      <td>tts-1-hd</td>\n",
       "      <td>1699046015</td>\n",
       "      <td>model</td>\n",
       "      <td>system</td>\n",
       "    </tr>\n",
       "    <tr>\n",
       "      <th>16</th>\n",
       "      <td>tts-1-hd-1106</td>\n",
       "      <td>1699053533</td>\n",
       "      <td>model</td>\n",
       "      <td>system</td>\n",
       "    </tr>\n",
       "    <tr>\n",
       "      <th>17</th>\n",
       "      <td>gpt-4-1106-preview</td>\n",
       "      <td>1698957206</td>\n",
       "      <td>model</td>\n",
       "      <td>system</td>\n",
       "    </tr>\n",
       "    <tr>\n",
       "      <th>18</th>\n",
       "      <td>text-embedding-ada-002</td>\n",
       "      <td>1671217299</td>\n",
       "      <td>model</td>\n",
       "      <td>openai-internal</td>\n",
       "    </tr>\n",
       "    <tr>\n",
       "      <th>19</th>\n",
       "      <td>gpt-3.5-turbo-16k</td>\n",
       "      <td>1683758102</td>\n",
       "      <td>model</td>\n",
       "      <td>openai-internal</td>\n",
       "    </tr>\n",
       "    <tr>\n",
       "      <th>20</th>\n",
       "      <td>gpt-4o-realtime-preview-2024-10-01</td>\n",
       "      <td>1727131766</td>\n",
       "      <td>model</td>\n",
       "      <td>system</td>\n",
       "    </tr>\n",
       "    <tr>\n",
       "      <th>21</th>\n",
       "      <td>text-embedding-3-small</td>\n",
       "      <td>1705948997</td>\n",
       "      <td>model</td>\n",
       "      <td>system</td>\n",
       "    </tr>\n",
       "    <tr>\n",
       "      <th>22</th>\n",
       "      <td>whisper-1</td>\n",
       "      <td>1677532384</td>\n",
       "      <td>model</td>\n",
       "      <td>openai-internal</td>\n",
       "    </tr>\n",
       "    <tr>\n",
       "      <th>23</th>\n",
       "      <td>text-embedding-3-large</td>\n",
       "      <td>1705953180</td>\n",
       "      <td>model</td>\n",
       "      <td>system</td>\n",
       "    </tr>\n",
       "    <tr>\n",
       "      <th>24</th>\n",
       "      <td>gpt-4-turbo</td>\n",
       "      <td>1712361441</td>\n",
       "      <td>model</td>\n",
       "      <td>system</td>\n",
       "    </tr>\n",
       "    <tr>\n",
       "      <th>25</th>\n",
       "      <td>gpt-4o-2024-05-13</td>\n",
       "      <td>1715368132</td>\n",
       "      <td>model</td>\n",
       "      <td>system</td>\n",
       "    </tr>\n",
       "    <tr>\n",
       "      <th>26</th>\n",
       "      <td>gpt-3.5-turbo-1106</td>\n",
       "      <td>1698959748</td>\n",
       "      <td>model</td>\n",
       "      <td>system</td>\n",
       "    </tr>\n",
       "    <tr>\n",
       "      <th>27</th>\n",
       "      <td>gpt-4-0613</td>\n",
       "      <td>1686588896</td>\n",
       "      <td>model</td>\n",
       "      <td>openai</td>\n",
       "    </tr>\n",
       "    <tr>\n",
       "      <th>28</th>\n",
       "      <td>gpt-4</td>\n",
       "      <td>1687882411</td>\n",
       "      <td>model</td>\n",
       "      <td>openai</td>\n",
       "    </tr>\n",
       "    <tr>\n",
       "      <th>29</th>\n",
       "      <td>gpt-3.5-turbo-instruct-0914</td>\n",
       "      <td>1694122472</td>\n",
       "      <td>model</td>\n",
       "      <td>system</td>\n",
       "    </tr>\n",
       "    <tr>\n",
       "      <th>30</th>\n",
       "      <td>gpt-4o-mini</td>\n",
       "      <td>1721172741</td>\n",
       "      <td>model</td>\n",
       "      <td>system</td>\n",
       "    </tr>\n",
       "    <tr>\n",
       "      <th>31</th>\n",
       "      <td>gpt-4o-realtime-preview</td>\n",
       "      <td>1727659998</td>\n",
       "      <td>model</td>\n",
       "      <td>system</td>\n",
       "    </tr>\n",
       "    <tr>\n",
       "      <th>32</th>\n",
       "      <td>gpt-4o-mini-2024-07-18</td>\n",
       "      <td>1721172717</td>\n",
       "      <td>model</td>\n",
       "      <td>system</td>\n",
       "    </tr>\n",
       "  </tbody>\n",
       "</table>\n",
       "</div>"
      ],
      "text/plain": [
       "                                    id     created object         owned_by\n",
       "0                                tts-1  1681940951  model  openai-internal\n",
       "1                           tts-1-1106  1699053241  model           system\n",
       "2                    chatgpt-4o-latest  1723515131  model           system\n",
       "3                             dall-e-2  1698798177  model           system\n",
       "4                    gpt-4o-2024-08-06  1722814719  model           system\n",
       "5                  gpt-4-turbo-preview  1706037777  model           system\n",
       "6                               gpt-4o  1715367049  model           system\n",
       "7               gpt-3.5-turbo-instruct  1692901427  model           system\n",
       "8                   gpt-4-0125-preview  1706037612  model           system\n",
       "9                   gpt-3.5-turbo-0125  1706048358  model           system\n",
       "10                       gpt-3.5-turbo  1677610602  model           openai\n",
       "11                         babbage-002  1692634615  model           system\n",
       "12                         davinci-002  1692634301  model           system\n",
       "13                            dall-e-3  1698785189  model           system\n",
       "14              gpt-4-turbo-2024-04-09  1712601677  model           system\n",
       "15                            tts-1-hd  1699046015  model           system\n",
       "16                       tts-1-hd-1106  1699053533  model           system\n",
       "17                  gpt-4-1106-preview  1698957206  model           system\n",
       "18              text-embedding-ada-002  1671217299  model  openai-internal\n",
       "19                   gpt-3.5-turbo-16k  1683758102  model  openai-internal\n",
       "20  gpt-4o-realtime-preview-2024-10-01  1727131766  model           system\n",
       "21              text-embedding-3-small  1705948997  model           system\n",
       "22                           whisper-1  1677532384  model  openai-internal\n",
       "23              text-embedding-3-large  1705953180  model           system\n",
       "24                         gpt-4-turbo  1712361441  model           system\n",
       "25                   gpt-4o-2024-05-13  1715368132  model           system\n",
       "26                  gpt-3.5-turbo-1106  1698959748  model           system\n",
       "27                          gpt-4-0613  1686588896  model           openai\n",
       "28                               gpt-4  1687882411  model           openai\n",
       "29         gpt-3.5-turbo-instruct-0914  1694122472  model           system\n",
       "30                         gpt-4o-mini  1721172741  model           system\n",
       "31             gpt-4o-realtime-preview  1727659998  model           system\n",
       "32              gpt-4o-mini-2024-07-18  1721172717  model           system"
      ]
     },
     "execution_count": 36,
     "metadata": {},
     "output_type": "execute_result"
    }
   ],
   "source": [
    "import pandas as pd\n",
    "from openai import OpenAI\n",
    "\n",
    "# Initialize the OpenAI client\n",
    "client = OpenAI()\n",
    "\n",
    "# Fetch the list of models\n",
    "response = client.models.list()\n",
    "\n",
    "# Extract model data\n",
    "models_data = response.data\n",
    "\n",
    "# Convert the model data into a DataFrame\n",
    "df = pd.DataFrame([{\n",
    "    'id': model.id,\n",
    "    'created': model.created,\n",
    "    'object': model.object,\n",
    "    'owned_by': model.owned_by\n",
    "} for model in models_data])\n",
    "\n",
    "# Display the DataFrame\n",
    "df"
   ]
  },
  {
   "cell_type": "markdown",
   "metadata": {},
   "source": [
    "### **2. Set Up OpenAI API Key**"
   ]
  },
  {
   "cell_type": "code",
   "execution_count": 37,
   "metadata": {},
   "outputs": [],
   "source": [
    "load_dotenv()\n",
    "api_key = os.getenv(\"OPENAI_API_KEY\")"
   ]
  },
  {
   "cell_type": "markdown",
   "metadata": {},
   "source": [
    "\n",
    "------\n",
    "\n",
    "#### **ChatCompletion API and Completion API**\n",
    "\n",
    "- **Completion API (Legacy)**: Hooks you up with text completions from a single prompt. \n",
    "\n",
    "- **Chat Completion API:** Nails it in the chat game, keeping the conversational flow intact.\n",
    "\n",
    "-----"
   ]
  },
  {
   "cell_type": "markdown",
   "metadata": {},
   "source": [
    "#### **Compleation API (Legacy)**"
   ]
  },
  {
   "cell_type": "code",
   "execution_count": 59,
   "metadata": {},
   "outputs": [
    {
     "name": "stdout",
     "output_type": "stream",
     "text": [
      "\n",
      "\n",
      "\"Scoops of happiness in every cone!\"\n"
     ]
    }
   ],
   "source": [
    "from openai import OpenAI\n",
    "client = OpenAI()\n",
    "\n",
    "response = client.completions.create(\n",
    "  model=\"gpt-3.5-turbo-instruct\",\n",
    "  prompt=\"Write a tagline for an ice cream shop.\"\n",
    ")\n",
    "\n",
    "print(response.choices[0].text)"
   ]
  },
  {
   "cell_type": "markdown",
   "metadata": {},
   "source": [
    "### **3. Set up OpenAI Chat Compleations**"
   ]
  },
  {
   "cell_type": "markdown",
   "metadata": {},
   "source": [
    "#### **Using Simgle Prompt**"
   ]
  },
  {
   "cell_type": "code",
   "execution_count": 39,
   "metadata": {},
   "outputs": [
    {
     "name": "stdout",
     "output_type": "stream",
     "text": [
      "Hello! How can I assist you today?\n"
     ]
    }
   ],
   "source": [
    "from openai import OpenAI\n",
    "client = OpenAI()\n",
    "\n",
    "completion = client.chat.completions.create(\n",
    "  model=\"gpt-4o-mini\",\n",
    "  messages=[\n",
    "    {\"role\": \"system\", \"content\": \"You are a helpful assistant.\"},\n",
    "    {\"role\": \"user\", \"content\": \"Hello!\"}\n",
    "  ]\n",
    ")\n",
    "\n",
    "print(completion.choices[0].message.content)"
   ]
  },
  {
   "cell_type": "markdown",
   "metadata": {},
   "source": [
    "#### **Using Multiple PromptS**"
   ]
  },
  {
   "cell_type": "code",
   "execution_count": 41,
   "metadata": {},
   "outputs": [
    {
     "name": "stdout",
     "output_type": "stream",
     "text": [
      "Based on what you've shared, you're a 21-year-old programmer. This suggests that you likely have a strong interest in technology and software development. You might be involved in learning or working with various programming languages and technologies. Being a programmer, you probably enjoy problem-solving and may have a passion for creating applications, websites, or technologies that can help improve people's lives or solve specific issues. \n",
      "\n",
      "If you have any specific interests in programming, projects you're working on, or questions you might want to explore, feel free to share!\n"
     ]
    }
   ],
   "source": [
    "# ChatCompletion API \n",
    "\n",
    "prompt1 = \"Hello How are you?\"\n",
    "prompt2 = \"I am 21 years old & I am a Programmer\"\n",
    "prompt3 = \"Tell me about me\"\n",
    "\n",
    "response = client.chat.completions.create(\n",
    "    model=\"gpt-4o-mini\",\n",
    "    messages=[\n",
    "        {\"role\": \"system\", \"content\": \"You are a helpful assistant.\"},\n",
    "        {\"role\": \"user\", \"content\": prompt1},\n",
    "        {\"role\": \"user\", \"content\": prompt2},\n",
    "        {\"role\": \"user\", \"content\": prompt3},\n",
    "    ]\n",
    ")\n",
    "\n",
    "print(response.choices[0].message.content)"
   ]
  },
  {
   "cell_type": "markdown",
   "metadata": {},
   "source": [
    "### **4. Let's Tweek some Parameters**"
   ]
  },
  {
   "cell_type": "markdown",
   "metadata": {},
   "source": [
    "##### **max_tokens**"
   ]
  },
  {
   "cell_type": "code",
   "execution_count": 42,
   "metadata": {},
   "outputs": [
    {
     "name": "stdout",
     "output_type": "stream",
     "text": [
      "Hello! I'm just a computer program, so I don't have feelings, but I'm here and ready to help you. How can I assist you today?\n"
     ]
    }
   ],
   "source": [
    "from openai import OpenAI\n",
    "client = OpenAI()\n",
    "\n",
    "completion = client.chat.completions.create(\n",
    "  model=\"gpt-4o-mini\",\n",
    "  messages=[\n",
    "    {\"role\": \"system\", \"content\": \"You are a helpful assistant.\"},\n",
    "    {\"role\": \"user\", \"content\": \"Hello! How are you?\"}\n",
    "  ],\n",
    "  max_tokens = 30,\n",
    ")\n",
    "\n",
    "print(completion.choices[0].message.content)"
   ]
  },
  {
   "cell_type": "markdown",
   "metadata": {},
   "source": [
    "##### **temperature**"
   ]
  },
  {
   "cell_type": "code",
   "execution_count": 48,
   "metadata": {},
   "outputs": [
    {
     "name": "stdout",
     "output_type": "stream",
     "text": [
      "Python is a high-level, interpreted programming language known for its readability and versatility. It was created by Guido van Rossum and first released in 1991. Python emphasizes code readability and simplicity, allowing developers to express concepts in fewer lines of code compared to other programming languages.\n",
      "\n",
      "### Key Features of Python:\n",
      "\n",
      "1. **Readability**: Python's syntax is designed to be clean and easy to understand. This makes it an excellent choice for beginners.\n",
      "\n",
      "2. **Interpreted Language**: Python is an interpreted language, which means that code is executed line by line, making debugging easier.\n",
      "\n",
      "3. **Dynamically Typed**: Python uses dynamic typing, which means you don’t need to declare the type of a variable when you create one.\n",
      "\n",
      "4. **Multi-Paradigm**: Python supports multiple programming paradigms, including procedural, object-oriented, and functional programming.\n",
      "\n",
      "5. **Extensive Standard Library**: Python comes with a large standard library that provides modules and functions for various tasks, such as file I/O, system calls, and even web development.\n",
      "\n",
      "6. **Cross-Platform**: Python is available on various operating systems, including Windows, macOS, and Linux.\n",
      "\n",
      "7. **Large Community and Ecosystem**: Python has a vast community of developers and a rich ecosystem of third-party libraries and frameworks, which makes it suitable for a wide range of applications, from web development to data analysis and machine learning.\n",
      "\n",
      "8. **Open Source**: Python is open-source, meaning its source code is freely available and can be modified and distributed.\n",
      "\n",
      "### Popular Use Cases:\n",
      "\n",
      "1. **Web Development**: Frameworks like Django and Flask make it easy to build web applications with Python.\n",
      "\n",
      "2. **Data Science and Machine Learning**: Libraries like NumPy, Pandas, Matplotlib, and scikit-learn are widely used for data analysis and machine learning.\n",
      "\n",
      "3. **Automation and Scripting**: Python’s simplicity makes it a popular choice for writing scripts to automate mundane tasks.\n",
      "\n",
      "4. **Game Development**: Libraries like Pygame allow developers to create games in Python.\n",
      "\n",
      "5. **Scientific Computing**: Python is used in scientific research and engineering due to its powerful libraries and tools.\n",
      "\n",
      "6. **Artificial Intelligence**: Python is a leading language in AI and machine learning, with frameworks like TensorFlow and PyTorch.\n",
      "\n",
      "### Getting Started:\n",
      "\n",
      "To get started with Python, you can download the latest version from the [official Python website](https://www.python.org/) and install it on your machine. You can write Python code in any text editor, but Integrated Development Environments (IDEs) like PyCharm, VSCode, or Jupyter Notebook can enhance your coding experience.\n",
      "\n",
      "### Conclusion:\n",
      "\n",
      "Python's combination of simplicity, power, and versatility has made it one of the most popular programming languages in the world. Whether you're a beginner or an experienced developer, Python offers tools and libraries that can help you tackle a wide range of programming tasks.\n"
     ]
    }
   ],
   "source": [
    "from openai import OpenAI\n",
    "client = OpenAI()\n",
    "\n",
    "prompt = \"Tell me about python Programming Language\"\n",
    "\n",
    "completion = client.chat.completions.create(\n",
    "  model=\"gpt-4o-mini\",\n",
    "  messages=[\n",
    "    {\"role\": \"system\", \"content\": \"You are a helpful assistant.\"},\n",
    "    {\"role\": \"user\", \"content\": prompt}\n",
    "  ],\n",
    "  temperature = 0.6,\n",
    ")\n",
    "\n",
    "print(completion.choices[0].message.content)"
   ]
  },
  {
   "cell_type": "markdown",
   "metadata": {},
   "source": [
    "##### **n**\n",
    "\n",
    "- Number of response"
   ]
  },
  {
   "cell_type": "code",
   "execution_count": 52,
   "metadata": {},
   "outputs": [
    {
     "name": "stdout",
     "output_type": "stream",
     "text": [
      "Python is a high-level, interpreted programming language that is widely used for various types of programming and software development. Here are some key features and characteristics of Python:\n",
      "\n",
      "### 1. **General-Purpose Language**\n",
      "   - Python is a versatile language that can be used for web development, data analysis, artificial intelligence, scientific computing, automation, and more.\n",
      "\n",
      "### 2. **Easy to Learn and Use**\n",
      "   - Python has a simple and readable syntax that makes it accessible for beginners. Its design\n",
      "-----------------------------\n",
      "Python is a high-level, interpreted programming language known for its simplicity and readability. It was created by Guido van Rossum and first released in 1991. Python is designed to be easy to understand and fun to use, which makes it an excellent choice for beginners as well as experienced programmers.\n",
      "\n",
      "### Key Features of Python\n",
      "\n",
      "1. **Readability**: Python's syntax is clear and easy to read, which helps programmers write clean and maintainable code. The use of indentation to define code blocks\n"
     ]
    }
   ],
   "source": [
    "from openai import OpenAI\n",
    "client = OpenAI()\n",
    "\n",
    "prompt = \"Tell me about python Programming Language\"\n",
    "\n",
    "completion = client.chat.completions.create(\n",
    "  model=\"gpt-4o-mini\",\n",
    "  messages=[\n",
    "    {\"role\": \"system\", \"content\": \"You are a helpful assistant.\"},\n",
    "    {\"role\": \"user\", \"content\": prompt}\n",
    "  ],\n",
    "  max_tokens=100,\n",
    "  temperature = 0.6,\n",
    "  n = 2,\n",
    ")\n",
    "\n",
    "print(completion.choices[0].message.content)\n",
    "print(\"-----------------------------\")\n",
    "print(completion.choices[1].message.content)"
   ]
  },
  {
   "cell_type": "markdown",
   "metadata": {},
   "source": [
    "### **5. Perform Different tasks**"
   ]
  },
  {
   "cell_type": "markdown",
   "metadata": {},
   "source": [
    "##### **Sentiment Analysis**"
   ]
  },
  {
   "cell_type": "code",
   "execution_count": 53,
   "metadata": {},
   "outputs": [
    {
     "name": "stdout",
     "output_type": "stream",
     "text": [
      "The sentiment of the sentence \"This Movie is Amazing!\" is positive.\n"
     ]
    }
   ],
   "source": [
    "from openai import OpenAI\n",
    "client = OpenAI()\n",
    "\n",
    "prompt = \"Give me the sentiment of this sentence: This Movie is Amazing!\"\n",
    "completion = client.chat.completions.create(\n",
    "  model=\"gpt-4o-mini\",\n",
    "  messages=[\n",
    "    {\"role\": \"system\", \"content\": \"You are a helpful assistant.\"},\n",
    "    {\"role\": \"user\", \"content\": prompt}\n",
    "  ],\n",
    ")\n",
    "\n",
    "print(completion.choices[0].message.content)"
   ]
  },
  {
   "cell_type": "markdown",
   "metadata": {},
   "source": [
    "#### **Machine Translation**"
   ]
  },
  {
   "cell_type": "code",
   "execution_count": 54,
   "metadata": {},
   "outputs": [
    {
     "name": "stdout",
     "output_type": "stream",
     "text": [
      "\"جوکر 2 میری پوری زندگی میں دیکھی جانے والی سب سے بدترین فلم ہے۔\"\n"
     ]
    }
   ],
   "source": [
    "from openai import OpenAI\n",
    "client = OpenAI()\n",
    "\n",
    "prompt = \"Give me urdu transilation of this sentence: Joker 2 is the worst movie that i have ever seen in my entire life.\"\n",
    "completion = client.chat.completions.create(\n",
    "  model=\"gpt-4o-mini\",\n",
    "  messages=[\n",
    "    {\"role\": \"system\", \"content\": \"You are a helpful assistant.\"},\n",
    "    {\"role\": \"user\", \"content\": prompt}\n",
    "  ],\n",
    ")\n",
    "\n",
    "print(completion.choices[0].message.content)"
   ]
  },
  {
   "cell_type": "markdown",
   "metadata": {},
   "source": [
    "##### **Language Detection**"
   ]
  },
  {
   "cell_type": "code",
   "execution_count": 55,
   "metadata": {},
   "outputs": [
    {
     "name": "stdout",
     "output_type": "stream",
     "text": [
      "The language of the sentence is Urdu.\n"
     ]
    }
   ],
   "source": [
    "from openai import OpenAI\n",
    "client = OpenAI()\n",
    "\n",
    "prompt = \"Detect language of this sentence: جوکر 2 میری پوری زندگی میں دیکھی جانے والی سب سے بدترین فلم ہے۔\"\n",
    "completion = client.chat.completions.create(\n",
    "  model=\"gpt-4o-mini\",\n",
    "  messages=[\n",
    "    {\"role\": \"system\", \"content\": \"You are a helpful assistant.\"},\n",
    "    {\"role\": \"user\", \"content\": prompt}\n",
    "  ],\n",
    ")\n",
    "\n",
    "print(completion.choices[0].message.content)"
   ]
  },
  {
   "cell_type": "markdown",
   "metadata": {},
   "source": [
    "##### **Code Generation**"
   ]
  },
  {
   "cell_type": "code",
   "execution_count": 56,
   "metadata": {},
   "outputs": [
    {
     "name": "stdout",
     "output_type": "stream",
     "text": [
      "Certainly! Here's a simple Python code snippet that prompts the user to enter two numbers and then adds them together:\n",
      "\n",
      "```python\n",
      "# Function to add two numbers\n",
      "def add_numbers(num1, num2):\n",
      "    return num1 + num2\n",
      "\n",
      "# Input from the user\n",
      "try:\n",
      "    number1 = float(input(\"Enter the first number: \"))\n",
      "    number2 = float(input(\"Enter the second number: \"))\n",
      "\n",
      "    # Adding the numbers\n",
      "    result = add_numbers(number1, number2)\n",
      "\n",
      "    # Printing the result\n",
      "    print(\"The sum of {} and {} is: {}\".format(number1, number2, result))\n",
      "except ValueError:\n",
      "    print(\"Please enter valid numbers.\")\n",
      "```\n",
      "\n",
      "You can run this code in a Python environment. It will prompt you to enter two numbers, and then it will display the sum.\n"
     ]
    }
   ],
   "source": [
    "from openai import OpenAI\n",
    "client = OpenAI()\n",
    "\n",
    "prompt = \"Give me a Python code to add 2 numbers\"\n",
    "\n",
    "completion = client.chat.completions.create(\n",
    "  model=\"gpt-4o-mini\",\n",
    "  messages=[\n",
    "    {\"role\": \"system\", \"content\": \"You are a helpful assistant.\"},\n",
    "    {\"role\": \"user\", \"content\": prompt}\n",
    "  ],\n",
    ")\n",
    "\n",
    "print(completion.choices[0].message.content)"
   ]
  },
  {
   "cell_type": "code",
   "execution_count": null,
   "metadata": {},
   "outputs": [],
   "source": []
  }
 ],
 "metadata": {
  "kernelspec": {
   "display_name": "Python 3",
   "language": "python",
   "name": "python3"
  },
  "language_info": {
   "codemirror_mode": {
    "name": "ipython",
    "version": 3
   },
   "file_extension": ".py",
   "mimetype": "text/x-python",
   "name": "python",
   "nbconvert_exporter": "python",
   "pygments_lexer": "ipython3",
   "version": "3.11.10"
  }
 },
 "nbformat": 4,
 "nbformat_minor": 2
}
